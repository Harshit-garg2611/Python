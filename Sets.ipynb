{
 "cells": [
  {
   "cell_type": "markdown",
   "id": "fc5ffbcb",
   "metadata": {},
   "source": [
    "# Sets : \n",
    "Unordered, Unique collection (no duplicates)"
   ]
  },
  {
   "cell_type": "code",
   "execution_count": 2,
   "id": "2c7a9c15",
   "metadata": {},
   "outputs": [
    {
     "name": "stdout",
     "output_type": "stream",
     "text": [
      "{1, 2, 3, 4, 'aapla', 6}\n"
     ]
    }
   ],
   "source": [
    "first_set = {3,6,1,2,4,1,\"aapla\"}\n",
    "print(first_set)"
   ]
  },
  {
   "cell_type": "code",
   "execution_count": null,
   "id": "202feb79",
   "metadata": {},
   "outputs": [
    {
     "ename": "TypeError",
     "evalue": "'set' object is not subscriptable",
     "output_type": "error",
     "traceback": [
      "\u001b[31m---------------------------------------------------------------------------\u001b[39m",
      "\u001b[31mTypeError\u001b[39m                                 Traceback (most recent call last)",
      "\u001b[36mCell\u001b[39m\u001b[36m \u001b[39m\u001b[32mIn[2]\u001b[39m\u001b[32m, line 1\u001b[39m\n\u001b[32m----> \u001b[39m\u001b[32m1\u001b[39m \u001b[38;5;28mprint\u001b[39m(\u001b[43mfirst_set\u001b[49m\u001b[43m[\u001b[49m\u001b[32;43m2\u001b[39;49m\u001b[43m]\u001b[49m)\n",
      "\u001b[31mTypeError\u001b[39m: 'set' object is not subscriptable"
     ]
    }
   ],
   "source": [
    "print(first_set[2]) # u can't access sets as this unordered "
   ]
  },
  {
   "cell_type": "code",
   "execution_count": 8,
   "id": "17264f9e",
   "metadata": {},
   "outputs": [],
   "source": [
    "fruits = {\"apple\",\"banana\",\"mango\",\"berry\",\"orange\",\"papaya\"}\n"
   ]
  },
  {
   "cell_type": "markdown",
   "id": "5c1743be",
   "metadata": {},
   "source": [
    " ## Key set methods : \n",
    " "
   ]
  },
  {
   "cell_type": "code",
   "execution_count": 9,
   "id": "00ddd072",
   "metadata": {},
   "outputs": [
    {
     "name": "stdout",
     "output_type": "stream",
     "text": [
      "{'berry', 'papaya', 'orange', 'apple', 'mango', 'banana'}\n",
      "{'berry', 'papaya', 'pineapple', 'orange', 'apple', 'mango', 'banana'}\n",
      "{'berry', 'papaya', 'pineapple', 'orange', 'apple', 'mango'}\n",
      "{'berry', 'papaya', 'pineapple', 'orange', 'apple', 'mango'}\n",
      "{'papaya', 'pineapple', 'orange', 'apple', 'mango'}\n"
     ]
    }
   ],
   "source": [
    "print(fruits)\n",
    "fruits.add(\"pineapple\")# add \n",
    "print(fruits)\n",
    "fruits.remove(\"banana\")\n",
    "print(fruits)\n",
    "fruits.discard(\"cherry\")  # it removes cherry if exists and not exists nothing happens but if we remove cherry than it throw error\n",
    "print(fruits)\n",
    "# print(fruits.remove(\"cheerrur\"))\n",
    "fruits.pop() # remove random element\n",
    "print(fruits)"
   ]
  },
  {
   "cell_type": "code",
   "execution_count": 10,
   "id": "f6f90d85",
   "metadata": {},
   "outputs": [
    {
     "name": "stdout",
     "output_type": "stream",
     "text": [
      "{1, 2, 4, 5, 6, 7, 8}\n",
      "{2, 4}\n",
      "{5, 7}\n"
     ]
    }
   ],
   "source": [
    "# set operations \n",
    "a = {2,4,5,7}\n",
    "b={4,6,1,2,8}\n",
    "\n",
    "print(a.union(b))\n",
    "print(a.intersection(b))\n",
    "print(a.difference(b))"
   ]
  }
 ],
 "metadata": {
  "kernelspec": {
   "display_name": "learning (3.12.5)",
   "language": "python",
   "name": "python3"
  },
  "language_info": {
   "codemirror_mode": {
    "name": "ipython",
    "version": 3
   },
   "file_extension": ".py",
   "mimetype": "text/x-python",
   "name": "python",
   "nbconvert_exporter": "python",
   "pygments_lexer": "ipython3",
   "version": "3.12.5"
  }
 },
 "nbformat": 4,
 "nbformat_minor": 5
}
