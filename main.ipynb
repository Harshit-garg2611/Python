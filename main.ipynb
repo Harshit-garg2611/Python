{
 "cells": [
  {
   "cell_type": "markdown",
   "id": "2f45b917",
   "metadata": {},
   "source": [
    "# Taking Input from User"
   ]
  },
  {
   "cell_type": "code",
   "execution_count": 2,
   "id": "c1c825cb",
   "metadata": {},
   "outputs": [
    {
     "name": "stdout",
     "output_type": "stream",
     "text": [
      "4 <class 'str'>\n",
      "6 <class 'str'>\n",
      "46\n",
      "After Type cast\n",
      "10\n"
     ]
    }
   ],
   "source": [
    "num1 = input(\"Enter number 1 :\")\n",
    "\n",
    "num2 = input(\"Enter num 2 :\")\n",
    "\n",
    "print(num1,type(num1))\n",
    "print(num2,type(num2))\n",
    "print(num1+num2)\n",
    "\n",
    "\n",
    "# Type cast\n",
    "print(\"After Type cast\")\n",
    "\n",
    "print(int(num1)+int(num2))\n"
   ]
  },
  {
   "cell_type": "code",
   "execution_count": 3,
   "id": "d739f0e2",
   "metadata": {},
   "outputs": [
    {
     "name": "stdout",
     "output_type": "stream",
     "text": [
      "hello, world!\n"
     ]
    }
   ],
   "source": [
    "print(\"hello\", \"world\", sep=\", \", end=\"!\\n\")"
   ]
  }
 ],
 "metadata": {
  "kernelspec": {
   "display_name": "learning (3.12.5)",
   "language": "python",
   "name": "python3"
  },
  "language_info": {
   "codemirror_mode": {
    "name": "ipython",
    "version": 3
   },
   "file_extension": ".py",
   "mimetype": "text/x-python",
   "name": "python",
   "nbconvert_exporter": "python",
   "pygments_lexer": "ipython3",
   "version": "3.12.5"
  }
 },
 "nbformat": 4,
 "nbformat_minor": 5
}
