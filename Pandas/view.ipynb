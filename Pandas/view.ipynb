{
 "cells": [
  {
   "cell_type": "code",
   "execution_count": 28,
   "id": "bdf5628a",
   "metadata": {},
   "outputs": [],
   "source": [
    "import pandas as pd"
   ]
  },
  {
   "cell_type": "code",
   "execution_count": 29,
   "id": "69f87b26",
   "metadata": {},
   "outputs": [],
   "source": [
    "data = pd.read_csv('Dataset/currency.csv')\n"
   ]
  },
  {
   "cell_type": "code",
   "execution_count": 30,
   "id": "31b27c32",
   "metadata": {},
   "outputs": [],
   "source": [
    "# To view entire data \n",
    "# print(data.to_string())"
   ]
  },
  {
   "cell_type": "code",
   "execution_count": 31,
   "id": "cbd64539",
   "metadata": {},
   "outputs": [
    {
     "name": "stdout",
     "output_type": "stream",
     "text": [
      "  Code Symbol                      Name\n",
      "0  AED    د.إ    United Arab Emirates d\n",
      "1  AFN      ؋            Afghan afghani\n",
      "2  ALL      L              Albanian lek\n",
      "3  AMD    AMD             Armenian dram\n",
      "4  ANG      ƒ  Netherlands Antillean gu\n",
      "5  AOA     Kz            Angolan kwanza\n",
      "6  ARS      $            Argentine peso\n",
      "7  AUD      $         Australian dollar\n"
     ]
    }
   ],
   "source": [
    "# To view first n rows \n",
    "print(data.head(8)) # type: ignore"
   ]
  },
  {
   "cell_type": "code",
   "execution_count": 32,
   "id": "ccd8f7ca",
   "metadata": {},
   "outputs": [
    {
     "name": "stdout",
     "output_type": "stream",
     "text": [
      "    Code Symbol                    Name\n",
      "153  VND      ₫         Vietnamese đồng\n",
      "154  VUV     Vt            Vanuatu vatu\n",
      "155  WST      T             Samoan tālā\n",
      "156  XAF    CFA  Central African CFA fr\n",
      "157  XCD      $   East Caribbean dollar\n",
      "158  XOF    CFA  West African CFA franc\n",
      "159  XPF     Fr               CFP franc\n",
      "160  YER      ﷼             Yemeni rial\n",
      "161  ZAR      R      South African rand\n",
      "162  ZMW     ZK          Zambian kwacha\n"
     ]
    }
   ],
   "source": [
    "# To view last n rows : \n",
    "print(data.tail(10)) "
   ]
  },
  {
   "cell_type": "code",
   "execution_count": 33,
   "id": "8f92666d",
   "metadata": {},
   "outputs": [
    {
     "name": "stdout",
     "output_type": "stream",
     "text": [
      "    Code Symbol                      Name\n",
      "102  MZN     MT        Mozambican metical\n",
      "4    ANG      ƒ  Netherlands Antillean gu\n",
      "62   IDR     Rp         Indonesian rupiah\n",
      "90   MDL    MDL              Moldovan leu\n",
      "106  NOK     kr           Norwegian krone\n",
      "82   KZT      ₸         Kazakhstani tenge\n",
      "146  UAH      ₴         Ukrainian hryvnia\n",
      "95   MOP      P           Macanese pataca\n",
      "0    AED    د.إ    United Arab Emirates d\n",
      "73   JPY      ¥              Japanese yen\n",
      "126  SDG   ج.س.            Sudanese pound\n",
      "42   EGP    EGP            Egyptian pound\n",
      "38   DJF     Fr          Djiboutian franc\n",
      "115  PLN     zł              Polish złoty\n",
      "28   CDF     Fr           Congolese franc\n"
     ]
    }
   ],
   "source": [
    "# To view more realistic view of our data we have to see random n no. of rows so : \n",
    "print(data.sample(15))\n",
    "\n",
    "# everytime I run this command it generate me a random n no. of rows in this case 15 so to fix our output we give a random state "
   ]
  },
  {
   "cell_type": "code",
   "execution_count": 34,
   "id": "637bdb9d",
   "metadata": {},
   "outputs": [
    {
     "name": "stdout",
     "output_type": "stream",
     "text": [
      "    Code Symbol                 Name\n",
      "96   MRU     UM  Mauritanian ouguiya\n",
      "18   BOB    Bs.   Bolivian boliviano\n",
      "64   IMP      £           Manx pound\n",
      "19   BRL     R$       Brazilian real\n",
      "142  TRY      ₺         Turkish lira\n",
      "92   MKD    ден     Macedonian denar\n",
      "117  PYG      ₲   Paraguayan guaraní\n",
      "151  VEF   Bs F   Venezuelan bolívar\n",
      "105  NIO     C$   Nicaraguan córdoba\n",
      "63   ILS      ₪   Israeli new shekel\n",
      "131  SOS     Sh      Somali shilling\n",
      "88   LYD    ل.د         Libyan dinar\n",
      "73   JPY      ¥         Japanese yen\n",
      "58   HNL      L     Honduran lempira\n",
      "67   IRR      ﷼         Iranian rial\n"
     ]
    }
   ],
   "source": [
    "print(data.sample(15,random_state=23))"
   ]
  },
  {
   "cell_type": "code",
   "execution_count": 35,
   "id": "d9c56830",
   "metadata": {},
   "outputs": [
    {
     "data": {
      "text/plain": [
       "Index(['Code', 'Symbol', 'Name'], dtype='object')"
      ]
     },
     "execution_count": 35,
     "metadata": {},
     "output_type": "execute_result"
    }
   ],
   "source": [
    "# To view the column names \n",
    "data.columns\n",
    "\n"
   ]
  },
  {
   "cell_type": "code",
   "execution_count": 36,
   "id": "cf29f491",
   "metadata": {},
   "outputs": [
    {
     "data": {
      "text/plain": [
       "RangeIndex(start=0, stop=163, step=1)"
      ]
     },
     "execution_count": 36,
     "metadata": {},
     "output_type": "execute_result"
    }
   ],
   "source": [
    "# to view row names \n",
    "data.index"
   ]
  },
  {
   "cell_type": "code",
   "execution_count": 37,
   "id": "705d5d33",
   "metadata": {},
   "outputs": [
    {
     "name": "stdout",
     "output_type": "stream",
     "text": [
      "['Code', 'Symbol', 'Name']\n",
      "['Code', 'Symbol', 'Name']\n"
     ]
    }
   ],
   "source": [
    "#  to make a list of column names \n",
    "print(list(data.columns))\n",
    "\n",
    "# or \n",
    "print(data.columns.tolist())\n",
    "# similiarly for row"
   ]
  },
  {
   "cell_type": "code",
   "execution_count": 38,
   "id": "6c53ee73",
   "metadata": {},
   "outputs": [
    {
     "data": {
      "text/plain": [
       "(163, 3)"
      ]
     },
     "execution_count": 38,
     "metadata": {},
     "output_type": "execute_result"
    }
   ],
   "source": [
    "# to see shape i.e. rows,columns \n",
    "data.shape"
   ]
  },
  {
   "cell_type": "code",
   "execution_count": 39,
   "id": "685463ae",
   "metadata": {},
   "outputs": [
    {
     "data": {
      "text/plain": [
       "489"
      ]
     },
     "execution_count": 39,
     "metadata": {},
     "output_type": "execute_result"
    }
   ],
   "source": [
    "# to see number of elemenst \n",
    "data.size"
   ]
  },
  {
   "cell_type": "code",
   "execution_count": 40,
   "id": "522e57d3",
   "metadata": {},
   "outputs": [
    {
     "name": "stdout",
     "output_type": "stream",
     "text": [
      "<class 'pandas.core.frame.DataFrame'>\n",
      "RangeIndex: 163 entries, 0 to 162\n",
      "Data columns (total 3 columns):\n",
      " #   Column  Non-Null Count  Dtype \n",
      "---  ------  --------------  ----- \n",
      " 0   Code    163 non-null    object\n",
      " 1   Symbol  163 non-null    object\n",
      " 2   Name    163 non-null    object\n",
      "dtypes: object(3)\n",
      "memory usage: 3.9+ KB\n"
     ]
    }
   ],
   "source": [
    "# to get info\n",
    "data.info()"
   ]
  },
  {
   "cell_type": "code",
   "execution_count": 41,
   "id": "e7dff8d0",
   "metadata": {},
   "outputs": [
    {
     "data": {
      "text/html": [
       "<div>\n",
       "<style scoped>\n",
       "    .dataframe tbody tr th:only-of-type {\n",
       "        vertical-align: middle;\n",
       "    }\n",
       "\n",
       "    .dataframe tbody tr th {\n",
       "        vertical-align: top;\n",
       "    }\n",
       "\n",
       "    .dataframe thead th {\n",
       "        text-align: right;\n",
       "    }\n",
       "</style>\n",
       "<table border=\"1\" class=\"dataframe\">\n",
       "  <thead>\n",
       "    <tr style=\"text-align: right;\">\n",
       "      <th></th>\n",
       "      <th>Code</th>\n",
       "      <th>Symbol</th>\n",
       "      <th>Name</th>\n",
       "    </tr>\n",
       "  </thead>\n",
       "  <tbody>\n",
       "    <tr>\n",
       "      <th>count</th>\n",
       "      <td>163</td>\n",
       "      <td>163</td>\n",
       "      <td>163</td>\n",
       "    </tr>\n",
       "    <tr>\n",
       "      <th>unique</th>\n",
       "      <td>163</td>\n",
       "      <td>107</td>\n",
       "      <td>163</td>\n",
       "    </tr>\n",
       "    <tr>\n",
       "      <th>top</th>\n",
       "      <td>AED</td>\n",
       "      <td>$</td>\n",
       "      <td>United Arab Emirates d</td>\n",
       "    </tr>\n",
       "    <tr>\n",
       "      <th>freq</th>\n",
       "      <td>1</td>\n",
       "      <td>28</td>\n",
       "      <td>1</td>\n",
       "    </tr>\n",
       "  </tbody>\n",
       "</table>\n",
       "</div>"
      ],
      "text/plain": [
       "       Code Symbol                    Name\n",
       "count   163    163                     163\n",
       "unique  163    107                     163\n",
       "top     AED      $  United Arab Emirates d\n",
       "freq      1     28                       1"
      ]
     },
     "execution_count": 41,
     "metadata": {},
     "output_type": "execute_result"
    }
   ],
   "source": [
    "data.describe()"
   ]
  },
  {
   "cell_type": "markdown",
   "id": "f3ddb10b",
   "metadata": {},
   "source": [
    "## Accessing a particular column or cell \n",
    "\n",
    "### loc( ) & iloc( ): \n",
    "- The `loc()` function is label based data selecting method which means that we have to pass the name of the row or column which we want to select. Also include last range of element passed . "
   ]
  },
  {
   "cell_type": "code",
   "execution_count": 42,
   "id": "1f4f7118",
   "metadata": {},
   "outputs": [
    {
     "data": {
      "text/plain": [
       "3      AMD\n",
       "4        ƒ\n",
       "5       Kz\n",
       "6        $\n",
       "7        $\n",
       "8     Afl.\n",
       "9      AZN\n",
       "10      KM\n",
       "Name: Symbol, dtype: object"
      ]
     },
     "metadata": {},
     "output_type": "display_data"
    },
    {
     "data": {
      "text/plain": [
       "'ƒ'"
      ]
     },
     "execution_count": 42,
     "metadata": {},
     "output_type": "execute_result"
    }
   ],
   "source": [
    "# loc : label based indexing \n",
    "\n",
    "# Accesing rows for particular rows, col\n",
    "\n",
    "\n",
    "# df.loc[row range, col range]\n",
    "\n",
    "\n",
    "display(data.loc[3:10,\"Symbol\"])\n",
    "# 10 will also included in result \n",
    "\n",
    "\n",
    "\n",
    "# at function is similiar only difference is it give only single value to us \n",
    "\n",
    "data.at[4,\"Symbol\"]\n"
   ]
  },
  {
   "cell_type": "code",
   "execution_count": 43,
   "id": "b6a841e6",
   "metadata": {},
   "outputs": [
    {
     "data": {
      "text/html": [
       "<div>\n",
       "<style scoped>\n",
       "    .dataframe tbody tr th:only-of-type {\n",
       "        vertical-align: middle;\n",
       "    }\n",
       "\n",
       "    .dataframe tbody tr th {\n",
       "        vertical-align: top;\n",
       "    }\n",
       "\n",
       "    .dataframe thead th {\n",
       "        text-align: right;\n",
       "    }\n",
       "</style>\n",
       "<table border=\"1\" class=\"dataframe\">\n",
       "  <thead>\n",
       "    <tr style=\"text-align: right;\">\n",
       "      <th></th>\n",
       "      <th>Code</th>\n",
       "      <th>Symbol</th>\n",
       "      <th>Name</th>\n",
       "    </tr>\n",
       "  </thead>\n",
       "  <tbody>\n",
       "    <tr>\n",
       "      <th>160</th>\n",
       "      <td>YER</td>\n",
       "      <td>﷼</td>\n",
       "      <td>Yemeni rial</td>\n",
       "    </tr>\n",
       "  </tbody>\n",
       "</table>\n",
       "</div>"
      ],
      "text/plain": [
       "    Code Symbol         Name\n",
       "160  YER      ﷼  Yemeni rial"
      ]
     },
     "execution_count": 43,
     "metadata": {},
     "output_type": "execute_result"
    }
   ],
   "source": [
    "# based on some condition \n",
    "data.loc[(data.Code=='YER')]\n",
    "\n",
    "\n",
    "# loc is used for getting data based on some condition . "
   ]
  },
  {
   "cell_type": "code",
   "execution_count": 47,
   "id": "f9348e9d",
   "metadata": {},
   "outputs": [
    {
     "data": {
      "text/html": [
       "<div>\n",
       "<style scoped>\n",
       "    .dataframe tbody tr th:only-of-type {\n",
       "        vertical-align: middle;\n",
       "    }\n",
       "\n",
       "    .dataframe tbody tr th {\n",
       "        vertical-align: top;\n",
       "    }\n",
       "\n",
       "    .dataframe thead th {\n",
       "        text-align: right;\n",
       "    }\n",
       "</style>\n",
       "<table border=\"1\" class=\"dataframe\">\n",
       "  <thead>\n",
       "    <tr style=\"text-align: right;\">\n",
       "      <th></th>\n",
       "      <th>Code</th>\n",
       "      <th>Symbol</th>\n",
       "      <th>Name</th>\n",
       "    </tr>\n",
       "  </thead>\n",
       "  <tbody>\n",
       "    <tr>\n",
       "      <th>160</th>\n",
       "      <td>YER</td>\n",
       "      <td>﷼</td>\n",
       "      <td>Yemeni currency</td>\n",
       "    </tr>\n",
       "  </tbody>\n",
       "</table>\n",
       "</div>"
      ],
      "text/plain": [
       "    Code Symbol             Name\n",
       "160  YER      ﷼  Yemeni currency"
      ]
     },
     "execution_count": 47,
     "metadata": {},
     "output_type": "execute_result"
    }
   ],
   "source": [
    "#  WE CAN Update the value like \n",
    "# update name to Yemen currency where code is YER\n",
    "\n",
    "data.loc[(data.Code==\"YER\"),\"Name\"] = 'Yemeni currency'\n",
    "\n",
    "data.loc[(data.Code=='YER')]"
   ]
  },
  {
   "cell_type": "code",
   "execution_count": 45,
   "id": "431eec94",
   "metadata": {},
   "outputs": [
    {
     "data": {
      "text/html": [
       "<div>\n",
       "<style scoped>\n",
       "    .dataframe tbody tr th:only-of-type {\n",
       "        vertical-align: middle;\n",
       "    }\n",
       "\n",
       "    .dataframe tbody tr th {\n",
       "        vertical-align: top;\n",
       "    }\n",
       "\n",
       "    .dataframe thead th {\n",
       "        text-align: right;\n",
       "    }\n",
       "</style>\n",
       "<table border=\"1\" class=\"dataframe\">\n",
       "  <thead>\n",
       "    <tr style=\"text-align: right;\">\n",
       "      <th></th>\n",
       "      <th>Code</th>\n",
       "      <th>Symbol</th>\n",
       "      <th>Name</th>\n",
       "    </tr>\n",
       "  </thead>\n",
       "  <tbody>\n",
       "    <tr>\n",
       "      <th>0</th>\n",
       "      <td>AED</td>\n",
       "      <td>د.إ</td>\n",
       "      <td>United Arab Emirates d</td>\n",
       "    </tr>\n",
       "    <tr>\n",
       "      <th>2</th>\n",
       "      <td>ALL</td>\n",
       "      <td>L</td>\n",
       "      <td>Albanian lek</td>\n",
       "    </tr>\n",
       "    <tr>\n",
       "      <th>4</th>\n",
       "      <td>ANG</td>\n",
       "      <td>ƒ</td>\n",
       "      <td>Netherlands Antillean gu</td>\n",
       "    </tr>\n",
       "    <tr>\n",
       "      <th>7</th>\n",
       "      <td>AUD</td>\n",
       "      <td>$</td>\n",
       "      <td>Australian dollar</td>\n",
       "    </tr>\n",
       "  </tbody>\n",
       "</table>\n",
       "</div>"
      ],
      "text/plain": [
       "  Code Symbol                      Name\n",
       "0  AED    د.إ    United Arab Emirates d\n",
       "2  ALL      L              Albanian lek\n",
       "4  ANG      ƒ  Netherlands Antillean gu\n",
       "7  AUD      $         Australian dollar"
      ]
     },
     "execution_count": 45,
     "metadata": {},
     "output_type": "execute_result"
    }
   ],
   "source": [
    "# The iloc() function is an indexed-based selecting method which means that we have to pass an integer index in the method to select a specific row/column. \n",
    "\n",
    " \n",
    "# This method does not include the last element of the range passed in it\n",
    "\n",
    "\n",
    "# selecting 0th, 2nd, 4th, and 7th index rows\n",
    "(data.iloc[[0, 2, 4, 7]])\n",
    "\n",
    "\n",
    "\n",
    "\n",
    "# iat() : similiar as iloc but for one value "
   ]
  },
  {
   "cell_type": "code",
   "execution_count": 46,
   "id": "43669ab7",
   "metadata": {},
   "outputs": [
    {
     "data": {
      "text/html": [
       "<div>\n",
       "<style scoped>\n",
       "    .dataframe tbody tr th:only-of-type {\n",
       "        vertical-align: middle;\n",
       "    }\n",
       "\n",
       "    .dataframe tbody tr th {\n",
       "        vertical-align: top;\n",
       "    }\n",
       "\n",
       "    .dataframe thead th {\n",
       "        text-align: right;\n",
       "    }\n",
       "</style>\n",
       "<table border=\"1\" class=\"dataframe\">\n",
       "  <thead>\n",
       "    <tr style=\"text-align: right;\">\n",
       "      <th></th>\n",
       "      <th>Name</th>\n",
       "    </tr>\n",
       "  </thead>\n",
       "  <tbody>\n",
       "    <tr>\n",
       "      <th>1</th>\n",
       "      <td>Afghan afghani</td>\n",
       "    </tr>\n",
       "    <tr>\n",
       "      <th>2</th>\n",
       "      <td>Albanian lek</td>\n",
       "    </tr>\n",
       "    <tr>\n",
       "      <th>3</th>\n",
       "      <td>Armenian dram</td>\n",
       "    </tr>\n",
       "    <tr>\n",
       "      <th>4</th>\n",
       "      <td>Netherlands Antillean gu</td>\n",
       "    </tr>\n",
       "  </tbody>\n",
       "</table>\n",
       "</div>"
      ],
      "text/plain": [
       "                       Name\n",
       "1            Afghan afghani\n",
       "2              Albanian lek\n",
       "3             Armenian dram\n",
       "4  Netherlands Antillean gu"
      ]
     },
     "execution_count": 46,
     "metadata": {},
     "output_type": "execute_result"
    }
   ],
   "source": [
    "# selecting rows from 1 to 4 and columns from 2 to 4\n",
    "(data.iloc[1: 5, 2: 5])"
   ]
  },
  {
   "cell_type": "code",
   "execution_count": 65,
   "id": "35f8575a",
   "metadata": {},
   "outputs": [
    {
     "data": {
      "text/html": [
       "<div>\n",
       "<style scoped>\n",
       "    .dataframe tbody tr th:only-of-type {\n",
       "        vertical-align: middle;\n",
       "    }\n",
       "\n",
       "    .dataframe tbody tr th {\n",
       "        vertical-align: top;\n",
       "    }\n",
       "\n",
       "    .dataframe thead th {\n",
       "        text-align: right;\n",
       "    }\n",
       "</style>\n",
       "<table border=\"1\" class=\"dataframe\">\n",
       "  <thead>\n",
       "    <tr style=\"text-align: right;\">\n",
       "      <th></th>\n",
       "      <th>Code</th>\n",
       "      <th>Symbol</th>\n",
       "      <th>Name</th>\n",
       "    </tr>\n",
       "  </thead>\n",
       "  <tbody>\n",
       "    <tr>\n",
       "      <th>0</th>\n",
       "      <td>AED</td>\n",
       "      <td>د.إ</td>\n",
       "      <td>United Arab Emirates d</td>\n",
       "    </tr>\n",
       "  </tbody>\n",
       "</table>\n",
       "</div>"
      ],
      "text/plain": [
       "  Code Symbol                    Name\n",
       "0  AED    د.إ  United Arab Emirates d"
      ]
     },
     "execution_count": 65,
     "metadata": {},
     "output_type": "execute_result"
    }
   ],
   "source": [
    "# Instead of loc searching based on condition we can also do boolean based indexing \n",
    "\n",
    "data[data[\"Code\"] == \"AED\"]\n"
   ]
  }
 ],
 "metadata": {
  "kernelspec": {
   "display_name": "learning (3.12.5)",
   "language": "python",
   "name": "python3"
  },
  "language_info": {
   "codemirror_mode": {
    "name": "ipython",
    "version": 3
   },
   "file_extension": ".py",
   "mimetype": "text/x-python",
   "name": "python",
   "nbconvert_exporter": "python",
   "pygments_lexer": "ipython3",
   "version": "3.12.5"
  }
 },
 "nbformat": 4,
 "nbformat_minor": 5
}
