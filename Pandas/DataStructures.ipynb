{
 "cells": [
  {
   "cell_type": "code",
   "execution_count": 1,
   "id": "d69de828",
   "metadata": {},
   "outputs": [],
   "source": [
    "import pandas as pd"
   ]
  },
  {
   "cell_type": "markdown",
   "id": "088833ca",
   "metadata": {},
   "source": [
    "# Series :\n",
    "- A Pandas Series is like a column in a table is a 1-d labelled array capable of holding data of any type\n",
    "- Contains Homogeneous data\n",
    "- mutable . \n",
    "\n",
    "\n",
    "\n",
    "\n"
   ]
  },
  {
   "cell_type": "code",
   "execution_count": null,
   "id": "3231d65a",
   "metadata": {},
   "outputs": [
    {
     "name": "stdout",
     "output_type": "stream",
     "text": [
      "0    a\n",
      "1    b\n",
      "2    c\n",
      "3    d\n",
      "4    e\n",
      "5    f\n",
      "dtype: object\n",
      "a\n",
      "10    a\n",
      "20    b\n",
      "30    c\n",
      "40    d\n",
      "50    e\n",
      "60    f\n",
      "dtype: object\n",
      "x    10\n",
      "y    20\n",
      "z    30\n",
      "w    40\n",
      "u    50\n",
      "v    60\n",
      "dtype: int64\n",
      "10\n"
     ]
    }
   ],
   "source": [
    "number = ['a','b','c','d','e','f']\n",
    "series = pd.Series(number)\n",
    "print(series)\n",
    "\n",
    "print(series[0])  # index based access\n",
    "\n",
    "# we can also provide customize index - may be in string also (The object supports both integer and label based indexing . )\n",
    "ind = [10,20,30,40,50,60]\n",
    "\n",
    "new_ser = pd.Series(data=number,index=ind)\n",
    "print(new_ser)\n",
    "\n",
    "\n",
    "# Create labels : labels means index\n",
    "myVar1 = pd.Series(ind, index = ('x', 'y', 'z', 'w','u','v'))\n",
    "print(myVar1)\n",
    "\n",
    "print(myVar1['x'])"
   ]
  },
  {
   "cell_type": "code",
   "execution_count": 15,
   "id": "fc88de9a",
   "metadata": {},
   "outputs": [
    {
     "name": "stdout",
     "output_type": "stream",
     "text": [
      "day1    420\n",
      "day2    413\n",
      "day3    520\n",
      "dtype: int64\n",
      "413\n",
      "day1    420\n",
      "day3    520\n",
      "dtype: int64\n"
     ]
    }
   ],
   "source": [
    "### Key-value objects : \n",
    "# The keys of the dictionary become the labels.\n",
    "\n",
    "calories = {\"day1\": 420, \"day2\": 413, \"day3\": 520}\n",
    "myvar3 = pd.Series(calories)\n",
    "\n",
    "\n",
    "print(myvar3)\n",
    "\n",
    "# You can access the key values like this \n",
    "print(myvar3[\"day2\"])\n",
    "\n",
    "\n",
    "# - include only the required datasets in series\n",
    "myvar4 = pd.Series(calories, index = (\"day1\", \"day3\"))\n",
    "print(myvar4)\n"
   ]
  },
  {
   "cell_type": "markdown",
   "id": "101a1486",
   "metadata": {},
   "source": [
    "# Data Frames\n",
    "A Pandas DataFrame is a 2-dimensional data structure, like a 2-dimensional array, or a table with rows and columns.\n",
    "\n",
    "- > IMP. How it is different from 2-d array\n",
    "- It can store heterogenous data as different data types columns present in table like Name as string age as int\n"
   ]
  },
  {
   "cell_type": "code",
   "execution_count": 18,
   "id": "b4ec3d49",
   "metadata": {},
   "outputs": [
    {
     "name": "stdout",
     "output_type": "stream",
     "text": [
      "          Name  Age Location  Driving License\n",
      "emp01  Harshit   22  Panipat             True\n",
      "emp02    Aarti   21     Zind             True\n",
      "emp03    Jyoti   22    Bihar            False\n"
     ]
    }
   ],
   "source": [
    "dataset = [[\"Harshit\",22,\"Panipat\",True],[\"Aarti\",21,\"Zind\",True],[\"Jyoti\",22,\"Bihar\",False]]\n",
    "\n",
    "dataFrame = pd.DataFrame(dataset, columns=(\"Name\",\"Age\",\"Location\",\"Driving License\"), index=(\"emp01\",\"emp02\",\"emp03\"))\n",
    "\n",
    "# columns,index are labels for column and rows resp. \n",
    "\n",
    "print(dataFrame)"
   ]
  }
 ],
 "metadata": {
  "kernelspec": {
   "display_name": "learning (3.12.5)",
   "language": "python",
   "name": "python3"
  },
  "language_info": {
   "codemirror_mode": {
    "name": "ipython",
    "version": 3
   },
   "file_extension": ".py",
   "mimetype": "text/x-python",
   "name": "python",
   "nbconvert_exporter": "python",
   "pygments_lexer": "ipython3",
   "version": "3.12.5"
  }
 },
 "nbformat": 4,
 "nbformat_minor": 5
}
