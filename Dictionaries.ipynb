{
 "cells": [
  {
   "cell_type": "markdown",
   "id": "01a4171c",
   "metadata": {},
   "source": [
    "# Dictionaries :\n",
    "Dictionaries allow key-value pairs and allow fast look ups .\n"
   ]
  },
  {
   "cell_type": "code",
   "execution_count": 12,
   "id": "db2db29f",
   "metadata": {},
   "outputs": [
    {
     "name": "stdout",
     "output_type": "stream",
     "text": [
      "{'name': 'Harshit garg', 'age': 22, 'marks': [98, 95, 34, 87, 65]}\n"
     ]
    }
   ],
   "source": [
    "student = {\"name\":\"Harshit garg\", \"age\":22, \"marks\":[98,95,34,87,65] }\n",
    "print(student)"
   ]
  },
  {
   "cell_type": "code",
   "execution_count": 13,
   "id": "1873d729",
   "metadata": {},
   "outputs": [
    {
     "name": "stdout",
     "output_type": "stream",
     "text": [
      "[98, 95, 34, 87, 65] <class 'list'>\n"
     ]
    }
   ],
   "source": [
    "print(student[\"marks\"] ,type(student[\"marks\"]))"
   ]
  },
  {
   "cell_type": "code",
   "execution_count": 14,
   "id": "e83f1b51",
   "metadata": {},
   "outputs": [
    {
     "name": "stdout",
     "output_type": "stream",
     "text": [
      "Harshit garg\n"
     ]
    }
   ],
   "source": [
    "print(student[\"name\"]) \n",
    "student[\"age\"] = 23 # Updating value\n",
    "student[\"city\"] = \"New York\" # Adding new key-value pair"
   ]
  },
  {
   "cell_type": "code",
   "execution_count": 15,
   "id": "1746c24e",
   "metadata": {},
   "outputs": [
    {
     "name": "stdout",
     "output_type": "stream",
     "text": [
      "dict_keys(['name', 'age', 'marks', 'city'])\n",
      "dict_values(['Harshit garg', 23, [98, 95, 34, 87, 65], 'New York'])\n",
      "dict_items([('name', 'Harshit garg'), ('age', 23), ('marks', [98, 95, 34, 87, 65]), ('city', 'New York')])\n"
     ]
    }
   ],
   "source": [
    "print(student.keys())\n",
    "print(student.values())\n",
    "print(student.items())"
   ]
  },
  {
   "cell_type": "code",
   "execution_count": 16,
   "id": "6acccb4d",
   "metadata": {},
   "outputs": [
    {
     "name": "stdout",
     "output_type": "stream",
     "text": [
      "{'name': 'Harshit garg', 'age': 23, 'marks': [98, 95, 34, 87, 65]}\n",
      "{}\n"
     ]
    }
   ],
   "source": [
    "student.pop(\"city\")\n",
    "print(student)\n",
    "\n",
    "student.clear() # empty dictionary\n",
    "print(student)"
   ]
  }
 ],
 "metadata": {
  "kernelspec": {
   "display_name": "learning (3.12.5)",
   "language": "python",
   "name": "python3"
  },
  "language_info": {
   "codemirror_mode": {
    "name": "ipython",
    "version": 3
   },
   "file_extension": ".py",
   "mimetype": "text/x-python",
   "name": "python",
   "nbconvert_exporter": "python",
   "pygments_lexer": "ipython3",
   "version": "3.12.5"
  }
 },
 "nbformat": 4,
 "nbformat_minor": 5
}
