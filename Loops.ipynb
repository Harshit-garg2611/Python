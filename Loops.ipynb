{
 "cells": [
  {
   "cell_type": "markdown",
   "id": "da4d3b38",
   "metadata": {},
   "source": [
    "# Loops in Python\n",
    "- Loops are control flow statements that allow a block of code to be executed repeatedly, based on a certain condition."
   ]
  },
  {
   "cell_type": "markdown",
   "id": "764b728e",
   "metadata": {},
   "source": [
    "## 1. for loop \n",
    "- For loops are used to iterate over a sequence (e.g., list, string, range)."
   ]
  },
  {
   "cell_type": "code",
   "execution_count": 2,
   "id": "527218d6",
   "metadata": {},
   "outputs": [
    {
     "name": "stdout",
     "output_type": "stream",
     "text": [
      "Mango\n",
      "Orange\n",
      "Pineapple\n"
     ]
    }
   ],
   "source": [
    "fruits = ['Mango', 'Orange', 'Pineapple']\n",
    "\n",
    "\n",
    "for fruit in fruits:\n",
    "    print(fruit)"
   ]
  },
  {
   "cell_type": "markdown",
   "id": "e448c06d",
   "metadata": {},
   "source": [
    "### using range :\n",
    "- The  range()  function generates a sequence of numbers.\n",
    "- Example:"
   ]
  },
  {
   "cell_type": "code",
   "execution_count": 4,
   "id": "9c807784",
   "metadata": {},
   "outputs": [
    {
     "name": "stdout",
     "output_type": "stream",
     "text": [
      "0\n",
      "1\n",
      "2\n",
      "3\n",
      "4\n"
     ]
    }
   ],
   "source": [
    "for i in range(5):\n",
    "    print(i)\n",
    "    \n",
    "    # The range starts from 0 and non inclusive n range(n) .\n",
    "    # we can also define range(n,m) , run from n to m-1.\n",
    "    # we don not need to update i as in other language in this "
   ]
  },
  {
   "cell_type": "code",
   "execution_count": 6,
   "id": "2477b224",
   "metadata": {},
   "outputs": [
    {
     "name": "stdout",
     "output_type": "stream",
     "text": [
      "3628800\n"
     ]
    }
   ],
   "source": [
    "# print factorial of any number given by user \n",
    "n=int(input(\"Enter number: \"))\n",
    "factorial = 1\n",
    "for i in range(1,n+1):\n",
    "    factorial*=i\n",
    "print(factorial)\n",
    "    "
   ]
  },
  {
   "cell_type": "markdown",
   "id": "c03cae9e",
   "metadata": {},
   "source": [
    "## 2. While Loops"
   ]
  },
  {
   "cell_type": "code",
   "execution_count": 10,
   "id": "c7737cf1",
   "metadata": {},
   "outputs": [
    {
     "name": "stdout",
     "output_type": "stream",
     "text": [
      "19\n",
      "18\n",
      "17\n",
      "16\n",
      "15\n",
      "14\n",
      "13\n",
      "12\n",
      "11\n",
      "10\n",
      "9\n",
      "8\n",
      "7\n",
      "6\n",
      "5\n",
      "4\n",
      "3\n"
     ]
    }
   ],
   "source": [
    "a = 19\n",
    "while a>2:\n",
    "    print(a)\n",
    "    a-=1"
   ]
  },
  {
   "cell_type": "markdown",
   "id": "7af05750",
   "metadata": {},
   "source": [
    "## 3. Break & Continue :\n",
    "- The  break  statement is used to exit a loop prematurely\n",
    "- The  continue  statement skips the rest of the code in the current iteration\n",
    "and moves to the next iteration"
   ]
  }
 ],
 "metadata": {
  "kernelspec": {
   "display_name": "learning (3.12.5)",
   "language": "python",
   "name": "python3"
  },
  "language_info": {
   "codemirror_mode": {
    "name": "ipython",
    "version": 3
   },
   "file_extension": ".py",
   "mimetype": "text/x-python",
   "name": "python",
   "nbconvert_exporter": "python",
   "pygments_lexer": "ipython3",
   "version": "3.12.5"
  }
 },
 "nbformat": 4,
 "nbformat_minor": 5
}
