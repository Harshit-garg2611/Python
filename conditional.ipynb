{
 "cells": [
  {
   "cell_type": "markdown",
   "id": "3f0d5863",
   "metadata": {},
   "source": [
    "# Conditional statements \n",
    "- Conditional statements allow you to execute code based on certain conditions.\n",
    "- Python uses  if ,  elif , and  else  for decision-making.\n"
   ]
  },
  {
   "cell_type": "code",
   "execution_count": 1,
   "id": "789072a5",
   "metadata": {},
   "outputs": [
    {
     "name": "stdout",
     "output_type": "stream",
     "text": [
      "You just became an adult!\n"
     ]
    }
   ],
   "source": [
    "age = 18\n",
    "if age < 18:\n",
    "    print(\"You are a minor.\")\n",
    "elif age == 18:\n",
    "    print(\"You just became an adult!\")\n",
    "else:\n",
    "    print(\"You are an adult.\")"
   ]
  },
  {
   "cell_type": "markdown",
   "id": "a511d915",
   "metadata": {},
   "source": [
    "## Difference b/w multiple independent if statements and an if-elif-else chain \n",
    "\n",
    "### 1. Multiple Independent if Statements:\n",
    "- When using multiple independent if statements, each if condition is evaluated independently, regardless of whether a preceding if condition was true."
   ]
  },
  {
   "cell_type": "code",
   "execution_count": 2,
   "id": "82114945",
   "metadata": {},
   "outputs": [
    {
     "name": "stdout",
     "output_type": "stream",
     "text": [
      "x is greater than 5\n",
      "x is greater than 8\n"
     ]
    }
   ],
   "source": [
    "x = 10\n",
    "\n",
    "if x > 5:\n",
    "    print(\"x is greater than 5\")\n",
    "\n",
    "if x > 8:\n",
    "    print(\"x is greater than 8\")\n",
    "\n",
    "if x > 12:\n",
    "    print(\"x is greater than 12\")"
   ]
  },
  {
   "cell_type": "markdown",
   "id": "0a2050d1",
   "metadata": {},
   "source": [
    "### 2. if-elif-else Chain:\n",
    "- In an if-elif-else chain, conditions are evaluated sequentially. As soon as one condition is found to be true, its corresponding block of code is executed, and the rest of the elif and else conditions in that chain are skipped."
   ]
  },
  {
   "cell_type": "code",
   "execution_count": 5,
   "id": "f58ee60e",
   "metadata": {},
   "outputs": [
    {
     "name": "stdout",
     "output_type": "stream",
     "text": [
      "x is greater than 5\n"
     ]
    }
   ],
   "source": [
    "x = 10\n",
    "\n",
    "if x > 5:\n",
    "    print(\"x is greater than 5\")\n",
    "\n",
    "elif x > 8:\n",
    "    print(\"x is greater than 8\")\n",
    "\n",
    "elif x > 12:\n",
    "    print(\"x is greater than 12\")\n",
    "else:\n",
    "    print(\"smaller than 5\")"
   ]
  },
  {
   "cell_type": "markdown",
   "id": "eb88155d",
   "metadata": {},
   "source": [
    "# Match Case Statements :\n",
    "- Similiar to switch case in other languages\n",
    "\n",
    "```python\n",
    "var\n",
    "\n",
    "match var :\n",
    "    case value1:\n",
    "        #statement\n",
    "    case value2:\n",
    "        #statement\n",
    "    case _ : \n",
    "        # default statement\n",
    "```"
   ]
  },
  {
   "cell_type": "code",
   "execution_count": 6,
   "id": "83146a8d",
   "metadata": {},
   "outputs": [
    {
     "name": "stdout",
     "output_type": "stream",
     "text": [
      "The day is  Tuesday\n"
     ]
    }
   ],
   "source": [
    "day = 'Tuesday'\n",
    "\n",
    "match day :\n",
    "    case \"Monday\":\n",
    "        print(\"The day is \",day)\n",
    "    case \"Tuesday\":\n",
    "        print(\"The day is \",day)\n",
    "    case \"Wednesday\":\n",
    "        print(\"The day is \",day)\n",
    "    case \"Thursday\":\n",
    "        print(\"The day is \",day)\n",
    "    case \"Friday\":\n",
    "        print(\"The day is \",day)\n",
    "    case \"Saturday\":\n",
    "        print(\"The day is \",day)\n",
    "    case \"Sunday\":\n",
    "        print(\"The day is \",day)\n",
    "    case _:\n",
    "        print(\"Error 202\")"
   ]
  }
 ],
 "metadata": {
  "kernelspec": {
   "display_name": "learning (3.12.5)",
   "language": "python",
   "name": "python3"
  },
  "language_info": {
   "codemirror_mode": {
    "name": "ipython",
    "version": 3
   },
   "file_extension": ".py",
   "mimetype": "text/x-python",
   "name": "python",
   "nbconvert_exporter": "python",
   "pygments_lexer": "ipython3",
   "version": "3.12.5"
  }
 },
 "nbformat": 4,
 "nbformat_minor": 5
}
