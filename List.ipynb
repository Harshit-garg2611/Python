{
 "cells": [
  {
   "cell_type": "markdown",
   "id": "1a18e645",
   "metadata": {},
   "source": [
    "# Data Structures in Python : \n",
    "1. Lists\n",
    "2. Tuples \n",
    "3. Sets\n",
    "4. Dictionaries"
   ]
  },
  {
   "cell_type": "markdown",
   "id": "3c3e0435",
   "metadata": {},
   "source": [
    "# Lists : \n",
    "- ordered , mutable. collection of items "
   ]
  },
  {
   "cell_type": "code",
   "execution_count": 20,
   "id": "7134ec6a",
   "metadata": {},
   "outputs": [
    {
     "name": "stdout",
     "output_type": "stream",
     "text": [
      "[1, 5, 8, 23]\n",
      "[3.5, 'apple', True, 4, 'mango', 'apple', 3.5]\n",
      "<class 'bool'>\n",
      "[3.5, 'apple', 'mango', 4, True, 'apple', 3.5]\n",
      "['apple', True, 4]\n"
     ]
    }
   ],
   "source": [
    "# creating a list\n",
    "numbers = [1,5,8,23]\n",
    "mix = [3.5,'apple',True,4,\"mango\",\"apple\",3.5]\n",
    "print(numbers)\n",
    "print(mix)\n",
    "print(type(mix[2]))\n",
    "\n",
    "\n",
    "# slicing in list\n",
    "print(mix[::-1])\n",
    "print(mix[1:4])\n"
   ]
  },
  {
   "cell_type": "markdown",
   "id": "8d754a68",
   "metadata": {},
   "source": [
    "# Basic list methods "
   ]
  },
  {
   "cell_type": "code",
   "execution_count": 21,
   "id": "5b945458",
   "metadata": {},
   "outputs": [
    {
     "name": "stdout",
     "output_type": "stream",
     "text": [
      "[3.5, 'apple', True, 4, 'mango', 'apple', 3.5, 'Harshit']\n"
     ]
    }
   ],
   "source": [
    "#  1. append : this will change the original list \n",
    "mix.append(\"Harshit\")\n",
    "\n",
    "print(mix)\n",
    "\n",
    "# No. of times I run this it will append \"harshit\" in mix"
   ]
  },
  {
   "cell_type": "code",
   "execution_count": 22,
   "id": "a300643f",
   "metadata": {},
   "outputs": [
    {
     "name": "stdout",
     "output_type": "stream",
     "text": [
      "[3.5, 'apple', True, 4, 'mango', 'apple', 3.5]\n"
     ]
    }
   ],
   "source": [
    "# 2 . pop() : remove last elemet from list \n",
    "\n",
    "mix.pop()\n",
    "print(mix)\n"
   ]
  },
  {
   "cell_type": "code",
   "execution_count": 23,
   "id": "5e28e083",
   "metadata": {},
   "outputs": [
    {
     "name": "stdout",
     "output_type": "stream",
     "text": [
      "[3.5, 'apple', False, True, 4, 'mango', 'apple', 3.5]\n"
     ]
    }
   ],
   "source": [
    "# 3. insert(index,value)\n",
    "\n",
    "mix.insert(2,False)\n",
    "print(mix)"
   ]
  },
  {
   "cell_type": "code",
   "execution_count": 24,
   "id": "feed0d80",
   "metadata": {},
   "outputs": [
    {
     "name": "stdout",
     "output_type": "stream",
     "text": [
      "[3.5, 'apple', False, 4, 'mango', 'apple', 3.5]\n"
     ]
    }
   ],
   "source": [
    "# 4. remove(value)\n",
    "\n",
    "mix.remove(True)\n",
    "print(mix)"
   ]
  },
  {
   "cell_type": "code",
   "execution_count": 25,
   "id": "5a8a4ccc",
   "metadata": {},
   "outputs": [],
   "source": [
    "# 5. Reverse \n",
    "mix.reverse()"
   ]
  },
  {
   "cell_type": "code",
   "execution_count": 26,
   "id": "4dcc8916",
   "metadata": {},
   "outputs": [
    {
     "name": "stdout",
     "output_type": "stream",
     "text": [
      "[3.5, 'apple', 'mango', 4, False, 'apple', 3.5]\n"
     ]
    }
   ],
   "source": [
    "print(mix)"
   ]
  },
  {
   "cell_type": "code",
   "execution_count": 28,
   "id": "7c4e4f20",
   "metadata": {},
   "outputs": [
    {
     "name": "stdout",
     "output_type": "stream",
     "text": [
      "[1, 5, 8, 23]\n",
      "[23, 8, 5, 1]\n",
      "[1, 5, 8, 23]\n"
     ]
    }
   ],
   "source": [
    "# sort() : only works with one type of lists \n",
    "\n",
    "print(numbers)\n",
    "numbers.reverse()\n",
    "print(numbers)\n",
    "numbers.sort()\n",
    "print(numbers)"
   ]
  },
  {
   "cell_type": "markdown",
   "id": "6c8806d6",
   "metadata": {},
   "source": [
    "# Comprehension List : \n"
   ]
  },
  {
   "cell_type": "code",
   "execution_count": 1,
   "id": "985a4f4f",
   "metadata": {},
   "outputs": [
    {
     "name": "stdout",
     "output_type": "stream",
     "text": [
      "[5, 10, 15, 20, 25, 30, 35, 40, 45, 50]\n"
     ]
    }
   ],
   "source": [
    "# create a list containing table of 5 \n",
    "\n",
    "# method 1 : \n",
    "table=[]\n",
    "for i in range(1,11):\n",
    "    table.append(5*i)\n",
    "\n",
    "print(table)"
   ]
  },
  {
   "cell_type": "code",
   "execution_count": 2,
   "id": "698d3346",
   "metadata": {},
   "outputs": [
    {
     "name": "stdout",
     "output_type": "stream",
     "text": [
      "[25, 100, 225, 400, 625, 900, 1225, 1600, 2025, 2500]\n"
     ]
    }
   ],
   "source": [
    "# method 2 : list comprehension\n",
    "# square of table of 5 \n",
    "\n",
    "square=[25*i*i for i in range(1,11)]\n",
    "print(square)\n"
   ]
  }
 ],
 "metadata": {
  "kernelspec": {
   "display_name": "learning (3.12.5)",
   "language": "python",
   "name": "python3"
  },
  "language_info": {
   "codemirror_mode": {
    "name": "ipython",
    "version": 3
   },
   "file_extension": ".py",
   "mimetype": "text/x-python",
   "name": "python",
   "nbconvert_exporter": "python",
   "pygments_lexer": "ipython3",
   "version": "3.12.5"
  }
 },
 "nbformat": 4,
 "nbformat_minor": 5
}
