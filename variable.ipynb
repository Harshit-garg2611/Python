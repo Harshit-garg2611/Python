{
 "cells": [
  {
   "cell_type": "markdown",
   "id": "c94171c7",
   "metadata": {},
   "source": [
    "# Variables"
   ]
  },
  {
   "cell_type": "code",
   "execution_count": 1,
   "id": "72f7b1f5",
   "metadata": {},
   "outputs": [],
   "source": [
    "# Variables are container to store data .\n",
    "# e.g. : \n",
    "name ='Harshit'\n",
    "a=3\n",
    "height = 5.3"
   ]
  },
  {
   "cell_type": "markdown",
   "id": "a7127c6a",
   "metadata": {},
   "source": [
    "## Variable Naming Rules\n",
    "- Variable names can contain letters, numbers, and underscores.\n",
    "- Variable names must start with a letter or underscore.\n",
    "- Variable names are case-sensitive.\n",
    "- Avoid using Python keywords as variable names (e.g.,  print ,  if ,  else )\n",
    "> Imp to note : Use snakecase (words separated by underscore eg: harshit_garg) standard practice"
   ]
  },
  {
   "cell_type": "markdown",
   "id": "8bb4cd6b",
   "metadata": {},
   "source": [
    "# Data Types in Python\n",
    "- Integers ( int ): Whole numbers (e.g.,  10 ,  -5 ).\n",
    "- Floats ( float ): Decimal numbers (e.g.,  3.14 ,  -0.001 ).\n",
    "- Strings ( str ): Text data enclosed in quotes (e.g.,  \"Hello\" ,  'Python' ).\n",
    "- Booleans ( bool ): Represents  True  or  False .\n",
    "- Lists: Ordered, mutable collections (e.g.,  [1, 2, 3] ).\n",
    "- Tuples: Ordered, immutable collections (e.g.,  (1, 2, 3) ).\n",
    "- Sets: Unordered collections of unique elements (e.g.,  {1, 2, 3} ).\n",
    "- Dictionaries: Key-value pairs (e.g.,  {\"name\": \"Alice\", \"age\": 25} )"
   ]
  },
  {
   "cell_type": "markdown",
   "id": "c2337ff8",
   "metadata": {},
   "source": [
    "## Checking Data types \n",
    "- Use type( ) function to check data types of variable"
   ]
  },
  {
   "cell_type": "code",
   "execution_count": 3,
   "id": "8b7967d9",
   "metadata": {},
   "outputs": [
    {
     "name": "stdout",
     "output_type": "stream",
     "text": [
      "<class 'int'>\n",
      "<class 'str'>\n",
      "<class 'bool'>\n",
      "<class 'list'>\n"
     ]
    }
   ],
   "source": [
    "print(type(10))\n",
    "print(type('star'))\n",
    "print(type(True))\n",
    "print(type([1,45]))"
   ]
  },
  {
   "cell_type": "markdown",
   "id": "e1125ff5",
   "metadata": {},
   "source": [
    "# Type Casting in Python : \n",
    "- Typecasting is the process of converting one data type to another.\n",
    "- Python provides built-in functions for typecasting: \n",
    "1. int() : Converts to integer.\n",
    "2. float() : Converts to float.\n",
    "3. str() : Converts to string.\n",
    "4. bool() : Converts to boolean.\n",
    "\n"
   ]
  },
  {
   "cell_type": "code",
   "execution_count": null,
   "id": "78c347cf",
   "metadata": {},
   "outputs": [
    {
     "name": "stdout",
     "output_type": "stream",
     "text": [
      "10 <class 'int'>\n",
      "25 <class 'str'>\n",
      "3 <class 'float'>\n"
     ]
    }
   ],
   "source": [
    "# Convert string to integer\n",
    "num_str = \"10\"\n",
    "num_int = int(num_str)\n",
    "print(num_int, type(num_int)) # Output: 10\n",
    "\n",
    "\n",
    "# Convert integer to string\n",
    "num = 25\n",
    "num_str = str(num)\n",
    "print(num_str, type(num_str)) # Output: \"25\"\n",
    "\n",
    "\n",
    "# Convert float to integer\n",
    "pi = 3.14\n",
    "pi_int = int(pi)\n",
    "print(pi_int, type(pi)) # Output: 3\n"
   ]
  }
 ],
 "metadata": {
  "kernelspec": {
   "display_name": "learning",
   "language": "python",
   "name": "python3"
  },
  "language_info": {
   "codemirror_mode": {
    "name": "ipython",
    "version": 3
   },
   "file_extension": ".py",
   "mimetype": "text/x-python",
   "name": "python",
   "nbconvert_exporter": "python",
   "pygments_lexer": "ipython3",
   "version": "3.12.5"
  }
 },
 "nbformat": 4,
 "nbformat_minor": 5
}
