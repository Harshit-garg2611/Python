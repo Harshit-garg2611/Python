{
 "cells": [
  {
   "cell_type": "code",
   "execution_count": 2,
   "id": "568accc1",
   "metadata": {},
   "outputs": [],
   "source": [
    "import numpy as np "
   ]
  },
  {
   "cell_type": "code",
   "execution_count": 3,
   "id": "f87d39e9",
   "metadata": {},
   "outputs": [],
   "source": [
    "a = np.array([[2,3,4],[3,4,5]])  #2-d shape 2,3\n",
    "b = np.array([4,5,4]) # 1-d shpae 3\n",
    "c = np.array([[3,2],[4,5],[1,2]]) # 2-d shape 3,2\n",
    "d = np.array([[2,3,4],[5,4,3]]) # 2-d shape : 2,3\n"
   ]
  },
  {
   "cell_type": "markdown",
   "id": "96a19cb3",
   "metadata": {},
   "source": [
    "- In performing mathematics operations shape should remain same in multi dim array"
   ]
  },
  {
   "cell_type": "code",
   "execution_count": 4,
   "id": "cbac1b0a",
   "metadata": {},
   "outputs": [
    {
     "name": "stdout",
     "output_type": "stream",
     "text": [
      "2 (2, 3) \n",
      "\n",
      "1 (3,) \n",
      "\n",
      "2 (3, 2) \n",
      "\n",
      "2 (2, 3) \n",
      "\n"
     ]
    }
   ],
   "source": [
    "print(a.ndim,a.shape,\"\\n\")\n",
    "print(b.ndim,b.shape,\"\\n\")\n",
    "print(c.ndim,c.shape,\"\\n\")\n",
    "print(d.ndim,d.shape,\"\\n\")"
   ]
  },
  {
   "cell_type": "code",
   "execution_count": 5,
   "id": "a00d034a",
   "metadata": {},
   "outputs": [
    {
     "name": "stdout",
     "output_type": "stream",
     "text": [
      "[[6 8 8]\n",
      " [9 9 7]]\n"
     ]
    }
   ],
   "source": [
    "# addition \n",
    "\n",
    "print(b+d)"
   ]
  },
  {
   "cell_type": "code",
   "execution_count": 6,
   "id": "a2a838f4",
   "metadata": {},
   "outputs": [
    {
     "name": "stdout",
     "output_type": "stream",
     "text": [
      "[[4 6 8]\n",
      " [8 8 8]] \n",
      "\n",
      "[[ 0  0  0]\n",
      " [-2  0  2]] \n",
      "\n",
      "[[1.         1.         1.        ]\n",
      " [0.6        1.         1.66666667]] \n",
      "\n",
      "[[1 1 1]\n",
      " [0 1 1]] \n",
      "\n",
      "[[ 4  9 16]\n",
      " [15 16 15]] \n",
      "\n",
      "[[2 3 0]\n",
      " [3 4 1]] \n",
      "\n",
      "[[ 4  9 16]\n",
      " [ 9 16 25]]\n"
     ]
    }
   ],
   "source": [
    "# addition \n",
    "print(a+d,\"\\n\")\n",
    "\n",
    "# subtraction\n",
    "print(a-d,\"\\n\")\n",
    "\n",
    "# division : float\n",
    "print(a/d,\"\\n\")\n",
    "\n",
    "# division : int\n",
    "print(a//d,\"\\n\")\n",
    "\n",
    "# multiply\n",
    "print(a*d,\"\\n\")\n",
    "\n",
    "# modulo \n",
    "print(a%b,\"\\n\")\n",
    "\n",
    "# exponential\n",
    "print(a**2)\n",
    "\n"
   ]
  },
  {
   "cell_type": "markdown",
   "id": "f36561b9",
   "metadata": {},
   "source": [
    "### Some universal functions :"
   ]
  },
  {
   "cell_type": "code",
   "execution_count": 11,
   "id": "566b620a",
   "metadata": {},
   "outputs": [
    {
     "name": "stdout",
     "output_type": "stream",
     "text": [
      "[[ 4.  9. 16.]\n",
      " [ 9. 16. 25.]] \n",
      "\n",
      "[ 54.59815003 148.4131591   54.59815003]\n",
      "[[2 5]\n",
      " [3 4]\n",
      " [4 3]]\n",
      "[4 5 4 3 2 4]\n",
      "\n",
      "[[2 3 4]\n",
      " [3 4 5]\n",
      " [2 3 4]\n",
      " [5 4 3]]\n"
     ]
    },
    {
     "data": {
      "text/plain": [
       "[array([[3, 2]]), array([[4, 5]]), array([[1, 2]])]"
      ]
     },
     "execution_count": 11,
     "metadata": {},
     "output_type": "execute_result"
    }
   ],
   "source": [
    "# a = np.array([[2,3,4],[3,4,5]])  \n",
    "# b = np.array([4,5,4]) \n",
    "# c = np.array([[3,2],[4,5],[1,2]]) \n",
    "# d = np.array([[2,3,4],[5,4,3]]) \n",
    "\n",
    "e = np.array([3,2,4])\n",
    "# sqrt\n",
    "print(np.sqrt(a**4),\"\\n\")\n",
    "\n",
    "# exponential e^x\n",
    "print(np.exp(b))\n",
    "\n",
    "\n",
    "# transpose a matrix : \n",
    "print(d.transpose())\n",
    "\n",
    "\n",
    "# concatenation \n",
    "print(np.concatenate([b,e]))\n",
    "# while using concatenate always use [] or () while passing arguments\n",
    "\n",
    "print()\n",
    "\n",
    "print(np.concatenate([a,d]))\n",
    "\n",
    "\n",
    "# split \n",
    "np.split(c,3)\n"
   ]
  },
  {
   "cell_type": "code",
   "execution_count": null,
   "id": "0743812d",
   "metadata": {},
   "outputs": [
    {
     "name": "stdout",
     "output_type": "stream",
     "text": [
      "[[2 3 4]\n",
      " [3 4 5]\n",
      " [2 3 4]\n",
      " [5 4 3]]\n",
      "\n",
      "[[2 3 4 2 3 4]\n",
      " [3 4 5 5 4 3]]\n"
     ]
    }
   ],
   "source": [
    "\n",
    "# vstack & hstack\n",
    "\n",
    "print(np.vstack((a,d)))\n",
    "\n",
    "print()\n",
    "\n",
    "print(np.hstack((a,d)))\n",
    "\n",
    "\n",
    "#  we can also do as \n",
    "# np.stack((a,d), axis=)\n",
    "\n",
    "#  axis = 0 : vstack\n",
    "# axis = 1 : hstack"
   ]
  },
  {
   "cell_type": "markdown",
   "id": "96b7ab9e",
   "metadata": {},
   "source": [
    "# Indexing & Slicing : \n",
    "### Indexing : \n",
    "- Access element through index 1-d : var[ index ] . \n",
    "- Access element through index 2-d : var[ row, col ] . \n",
    "- Access element through index 3-d : var[ row, row, col ] .\n",
    "- Array[-1] : last element\n",
    "- -n -(n-1) ...... -3 -2 -1\n",
    "### Slicing of array :\n",
    "var_name[start_index : end_index : step]\n",
    "- Non-inclusive end \n",
    "- if want a slicing till end than don't need to give end index\n",
    "- By default step is 1\n",
    "- In 2-d array first pass row number than slicing same ."
   ]
  },
  {
   "cell_type": "code",
   "execution_count": null,
   "id": "1bf1c9fc",
   "metadata": {},
   "outputs": [
    {
     "name": "stdout",
     "output_type": "stream",
     "text": [
      "[ 3 12  8  7  6  5]\n"
     ]
    }
   ],
   "source": [
    "slice_arr = np.array([2,3,4,5,6,7,8,12,3,4])\n",
    "\n",
    "print(slice_arr[-2:-8:-1])   # start : stop : step\n",
    "\n",
    "# slicing with negative index we have to put step value"
   ]
  },
  {
   "cell_type": "code",
   "execution_count": null,
   "id": "3f69fd06",
   "metadata": {},
   "outputs": [
    {
     "name": "stdout",
     "output_type": "stream",
     "text": [
      "[[94 93 69]\n",
      " [35 78 43]\n",
      " [72 66 16]]\n",
      "\n",
      "[[93 69]\n",
      " [78 43]\n",
      " [66 16]]\n"
     ]
    }
   ],
   "source": [
    "#  In 2-d slicing \n",
    "# slice[ row_slice ,col_slice]\n",
    "\n",
    "matrix = np.random.randint(4,100, size=(3,3))\n",
    "print(matrix)\n",
    "print()\n",
    "\n",
    "# slice : 1st row,2nd row and 2nd and 3rd column\n",
    "# Remember 0-based indexing\n",
    "\n",
    "print(matrix[0:3, 1:4])"
   ]
  },
  {
   "cell_type": "markdown",
   "id": "92697369",
   "metadata": {},
   "source": [
    "# Iterating NumPy Array :\n",
    "- simple loops and nested loops\n",
    "- Function to iterate : `np.nditer(var)`\n",
    "- to get indexing along with value we use `ndneumerate()` function . \n"
   ]
  },
  {
   "cell_type": "code",
   "execution_count": null,
   "id": "41c0ae68",
   "metadata": {},
   "outputs": [
    {
     "name": "stdout",
     "output_type": "stream",
     "text": [
      "1\n",
      "2\n",
      "3\n",
      "4\n",
      "5\n",
      "2\n",
      "6\n",
      "7\n",
      "4\n",
      "3\n"
     ]
    }
   ],
   "source": [
    "var = np.array([[1,2,3,4,5],[2,6,7,4,3]])\n",
    "for i in np.nditer(var):\n",
    "    print(i)"
   ]
  },
  {
   "cell_type": "code",
   "execution_count": null,
   "id": "59aab985",
   "metadata": {},
   "outputs": [
    {
     "name": "stdout",
     "output_type": "stream",
     "text": [
      "(0, 0) 1\n",
      "(0, 1) 2\n",
      "(0, 2) 3\n",
      "(0, 3) 4\n",
      "(0, 4) 5\n",
      "(1, 0) 2\n",
      "(1, 1) 6\n",
      "(1, 2) 7\n",
      "(1, 3) 4\n",
      "(1, 4) 3\n"
     ]
    }
   ],
   "source": [
    "# To get indexing with value \n",
    "for i,j in np.ndenumerate(var):\n",
    "    print(i,j)"
   ]
  },
  {
   "cell_type": "markdown",
   "id": "1d7fe6cd",
   "metadata": {},
   "source": [
    "\n",
    "## [Copy v/s View :](./Copy_View.py)\n",
    "\n",
    "| Copy                                                         | View                                                                                                        |\n",
    "|--------------------------------------------------------------|-------------------------------------------------------------------------------------------------------------|\n",
    "| Copy Owns the data                                           | View does not own the data                                                                                  |\n",
    "| Copy of array is a new array                                 | Ony view of original array                                                                                  |\n",
    "| The changes made in copy data does not reflect in main array | any changes made to view array reflect in original array & changes made in original array reflects in view  |\n",
    "\n",
    "- By default is view if we have to build copy than apply `.copy()` function at last"
   ]
  }
 ],
 "metadata": {
  "kernelspec": {
   "display_name": "learning (3.12.5)",
   "language": "python",
   "name": "python3"
  },
  "language_info": {
   "codemirror_mode": {
    "name": "ipython",
    "version": 3
   },
   "file_extension": ".py",
   "mimetype": "text/x-python",
   "name": "python",
   "nbconvert_exporter": "python",
   "pygments_lexer": "ipython3",
   "version": "3.12.5"
  }
 },
 "nbformat": 4,
 "nbformat_minor": 5
}
