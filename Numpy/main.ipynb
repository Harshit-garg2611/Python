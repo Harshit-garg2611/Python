{
 "cells": [
  {
   "cell_type": "code",
   "execution_count": 8,
   "id": "4929a26f",
   "metadata": {},
   "outputs": [],
   "source": [
    "import numpy as np\n",
    "import time"
   ]
  },
  {
   "cell_type": "markdown",
   "id": "ed99b161",
   "metadata": {},
   "source": [
    "## Comparison of speed : execution time "
   ]
  },
  {
   "cell_type": "code",
   "execution_count": 9,
   "id": "68442c03",
   "metadata": {},
   "outputs": [
    {
     "name": "stdout",
     "output_type": "stream",
     "text": [
      "3.5135319232940674\n"
     ]
    }
   ],
   "source": [
    "num_list = [1,2,3,4,5,6,7]*10000000\n",
    "\n",
    "start_time = time.time()\n",
    "\n",
    "num_list = [num_list[i]*2 for i in range(len(num_list))]\n",
    "\n",
    "print(time.time()-start_time)"
   ]
  },
  {
   "cell_type": "code",
   "execution_count": 3,
   "id": "178a4b3e",
   "metadata": {},
   "outputs": [
    {
     "name": "stdout",
     "output_type": "stream",
     "text": [
      "0.06775164604187012\n"
     ]
    }
   ],
   "source": [
    "a = [1,2,3,4,5,6,7]*10000000\n",
    "num_array = np.array(a)\n",
    "\n",
    "\n",
    "s_time=time.time()\n",
    "\n",
    "\n",
    "num_array *= 2\n",
    "print(time.time()-s_time)"
   ]
  },
  {
   "cell_type": "markdown",
   "id": "73bd3615",
   "metadata": {},
   "source": [
    " ## Comparison of Memory space "
   ]
  },
  {
   "cell_type": "code",
   "execution_count": 4,
   "id": "733775ed",
   "metadata": {},
   "outputs": [],
   "source": [
    "import sys"
   ]
  },
  {
   "cell_type": "code",
   "execution_count": 5,
   "id": "e6f1be66",
   "metadata": {},
   "outputs": [
    {
     "name": "stdout",
     "output_type": "stream",
     "text": [
      "List size: 586537432\n",
      "Array size: 560000000\n"
     ]
    }
   ],
   "source": [
    "print(\"List size:\", sys.getsizeof(num_list))\n",
    "print(\"Array size:\", num_array.nbytes)"
   ]
  },
  {
   "cell_type": "code",
   "execution_count": 6,
   "id": "e5e26398",
   "metadata": {},
   "outputs": [
    {
     "name": "stdout",
     "output_type": "stream",
     "text": [
      "70000000\n"
     ]
    }
   ],
   "source": [
    "# To calculate number of elements (length) of array \n",
    "\n",
    "print(num_array.size)"
   ]
  },
  {
   "cell_type": "markdown",
   "id": "9f55e91a",
   "metadata": {},
   "source": [
    "# Homogenity of numpy array"
   ]
  },
  {
   "cell_type": "code",
   "execution_count": 7,
   "id": "591de0d8",
   "metadata": {},
   "outputs": [
    {
     "name": "stdout",
     "output_type": "stream",
     "text": [
      "list : [1, 'skksh', 29.3, True, 'askhs']\n",
      "\n",
      "array : ['1' 'skksh' '29.3' 'True' 'askhs']\n"
     ]
    }
   ],
   "source": [
    "random_list = [1,\"skksh\",29.3,True,\"askhs\"]\n",
    "\n",
    "random_array = np.array(random_list)\n",
    "\n",
    "print(\"list :\",random_list)\n",
    "print()\n",
    "print(\"array :\",random_array)"
   ]
  }
 ],
 "metadata": {
  "kernelspec": {
   "display_name": "learning (3.12.5)",
   "language": "python",
   "name": "python3"
  },
  "language_info": {
   "codemirror_mode": {
    "name": "ipython",
    "version": 3
   },
   "file_extension": ".py",
   "mimetype": "text/x-python",
   "name": "python",
   "nbconvert_exporter": "python",
   "pygments_lexer": "ipython3",
   "version": "3.12.5"
  }
 },
 "nbformat": 4,
 "nbformat_minor": 5
}
