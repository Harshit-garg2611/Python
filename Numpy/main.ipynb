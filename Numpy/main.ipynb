{
 "cells": [
  {
   "cell_type": "code",
   "execution_count": 8,
   "id": "4929a26f",
   "metadata": {},
   "outputs": [],
   "source": [
    "import numpy as np\n",
    "import time"
   ]
  },
  {
   "cell_type": "markdown",
   "id": "ed99b161",
   "metadata": {},
   "source": [
    "## Comparison of speed : execution time "
   ]
  },
  {
   "cell_type": "code",
   "execution_count": 2,
   "id": "68442c03",
   "metadata": {},
   "outputs": [
    {
     "name": "stdout",
     "output_type": "stream",
     "text": [
      "0.03791642189025879\n"
     ]
    }
   ],
   "source": [
    "num_list = [1,2,3,4,5,6,7]*100000\n",
    "\n",
    "start_time = time.time()\n",
    "\n",
    "num_list = [num_list[i]*2 for i in range(len(num_list))]\n",
    "\n",
    "print(time.time()-start_time)"
   ]
  },
  {
   "cell_type": "code",
   "execution_count": 3,
   "id": "178a4b3e",
   "metadata": {},
   "outputs": [
    {
     "name": "stdout",
     "output_type": "stream",
     "text": [
      "0.0\n"
     ]
    }
   ],
   "source": [
    "a = [1,2,3,4,5,6,7]*100000\n",
    "num_array = np.array(a)\n",
    "\n",
    "\n",
    "s_time=time.time()\n",
    "\n",
    "\n",
    "num_array = num_array*2\n",
    "print(time.time()-s_time)"
   ]
  },
  {
   "cell_type": "markdown",
   "id": "73bd3615",
   "metadata": {},
   "source": [
    " ## Comparison of Memory space "
   ]
  },
  {
   "cell_type": "code",
   "execution_count": 4,
   "id": "733775ed",
   "metadata": {},
   "outputs": [],
   "source": [
    "import sys"
   ]
  },
  {
   "cell_type": "code",
   "execution_count": 5,
   "id": "e6f1be66",
   "metadata": {},
   "outputs": [
    {
     "name": "stdout",
     "output_type": "stream",
     "text": [
      "List size: 104\n",
      "Array size: 40\n"
     ]
    }
   ],
   "source": [
    "a = [1,2,3,4,5]\n",
    "b = np.array(a)\n",
    "\n",
    "print(\"List size:\", sys.getsizeof(a))\n",
    "print(\"Array size:\", b.nbytes)"
   ]
  },
  {
   "cell_type": "markdown",
   "id": "75061363",
   "metadata": {},
   "source": [
    "## Dimensions and shape in Numpy : \n",
    "\n",
    "- scalar = number : no dimension\n",
    "- [2,3,4,4] = 1-d \n",
    "- [rows and columns] = 2-d"
   ]
  },
  {
   "cell_type": "code",
   "execution_count": 7,
   "id": "a4ca04b5",
   "metadata": {},
   "outputs": [
    {
     "name": "stdout",
     "output_type": "stream",
     "text": [
      "1\n",
      "0\n",
      "[[1 2 3]\n",
      " [3 4 5]] 2\n"
     ]
    }
   ],
   "source": [
    "arr = np.array([1,2,3,4])\n",
    "\n",
    "print(arr.ndim)\n",
    "\n",
    "arr1= np.array(34)\n",
    "print(arr1.ndim)\n",
    "\n",
    "arr2 = np.array([[1,2,3],[3,4,5]])\n",
    "print(arr2,arr2.ndim)"
   ]
  }
 ],
 "metadata": {
  "kernelspec": {
   "display_name": "learning (3.12.5)",
   "language": "python",
   "name": "python3"
  },
  "language_info": {
   "codemirror_mode": {
    "name": "ipython",
    "version": 3
   },
   "file_extension": ".py",
   "mimetype": "text/x-python",
   "name": "python",
   "nbconvert_exporter": "python",
   "pygments_lexer": "ipython3",
   "version": "3.12.5"
  }
 },
 "nbformat": 4,
 "nbformat_minor": 5
}
