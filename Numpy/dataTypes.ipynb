{
 "cells": [
  {
   "cell_type": "markdown",
   "id": "d5733920",
   "metadata": {},
   "source": [
    "# Common Data Types in NumPy:\n",
    "\n",
    "- int32 , int64 : Integer types with different bit sizes.\n",
    "- float32 ,float64 : Floating-point types with different precision.\n",
    "- bool : Boolean data type.\n",
    "- complex64 ,complex128 : Complex number types.\n",
    "- object : For storing objects (e.g., Python objects, strings)"
   ]
  },
  {
   "cell_type": "code",
   "execution_count": 1,
   "id": "fc18f76f",
   "metadata": {},
   "outputs": [],
   "source": [
    "import numpy as np"
   ]
  },
  {
   "cell_type": "code",
   "execution_count": 2,
   "id": "5d331cd3",
   "metadata": {},
   "outputs": [
    {
     "name": "stdout",
     "output_type": "stream",
     "text": [
      "int64\n",
      "float64\n"
     ]
    }
   ],
   "source": [
    "# > To check data type of element or numpy array : var_name.dtype\n",
    "\n",
    "arr = np.arange(3,28)\n",
    "\n",
    "print(arr.dtype)\n",
    "\n",
    "# To convert data types \n",
    "\n",
    "arr = np.arange(3,28,dtype=float) # this is typecasting \n",
    "print(arr.dtype)"
   ]
  },
  {
   "cell_type": "code",
   "execution_count": 3,
   "id": "924b876e",
   "metadata": {},
   "outputs": [
    {
     "name": "stdout",
     "output_type": "stream",
     "text": [
      "<U32\n"
     ]
    }
   ],
   "source": [
    "# we can use astype() function to typecast : It does not changes the original array \n",
    "x = arr.astype(str)\n",
    "\n",
    "print(x.dtype)"
   ]
  },
  {
   "cell_type": "markdown",
   "id": "52588b71",
   "metadata": {},
   "source": [
    "# Shaping & Reshaping : \n",
    "- Reshaping means changing the shape of an array.\n",
    "- By reshaping we can add or remove dimensions or change number of elements in each dimension."
   ]
  },
  {
   "cell_type": "code",
   "execution_count": 4,
   "id": "23fa80d5",
   "metadata": {},
   "outputs": [
    {
     "name": "stdout",
     "output_type": "stream",
     "text": [
      "[[ 1  2  3]\n",
      " [ 4  5  6]\n",
      " [ 7  8  9]\n",
      " [10 11 12]]\n"
     ]
    }
   ],
   "source": [
    "# Convert the following 1-D array with 12 elements into a 2-D array.\n",
    "\n",
    "# The outermost dimension will have 4 arrays, each with 3 elements:\n",
    "\n",
    "arr = np.arange(1,13)\n",
    "\n",
    "print(arr.reshape(4,3))"
   ]
  },
  {
   "cell_type": "code",
   "execution_count": 15,
   "id": "ed5adaf2",
   "metadata": {},
   "outputs": [
    {
     "name": "stdout",
     "output_type": "stream",
     "text": [
      "[[[ 1  2]\n",
      "  [ 3  4]\n",
      "  [ 5  6]]\n",
      "\n",
      " [[ 7  8]\n",
      "  [ 9 10]\n",
      "  [11 12]]]\n"
     ]
    }
   ],
   "source": [
    "# Convert the following 1-D array with 12 elements into a 3-D array.\n",
    "\n",
    "# The outermost dimension will have 2 arrays that contains 3 arrays, each with 2 elements:\n",
    "\n",
    "print(arr.reshape(2,3,2))"
   ]
  },
  {
   "cell_type": "markdown",
   "id": "1daa1a1d",
   "metadata": {},
   "source": [
    ">Note : We can reshape in any shape as long as elements are equal in both dimensions \n",
    "\n",
    "### `ravel()` & `flatten()` [copy or view]\n",
    "- These are used to convert multi dimensional array to 1-d array\n",
    "1. `ravel()` : ravel provides view any change in ravel array reflects in original array\n",
    "2.  `flatten()` : flatten provides copy any change in flattens array does not reflect in original array\n",
    "3. We can also pass -1 in reshape to convert in 1-d."
   ]
  },
  {
   "cell_type": "code",
   "execution_count": 18,
   "id": "0fe9dec0",
   "metadata": {},
   "outputs": [
    {
     "name": "stdout",
     "output_type": "stream",
     "text": [
      "[ 1  2  3  4  5  6  7  8  9 10 11 12]\n",
      "[[[ 1  2]\n",
      "  [ 3  4]\n",
      "  [ 5  6]]\n",
      "\n",
      " [[ 7  8]\n",
      "  [ 9 10]\n",
      "  [11 12]]]\n",
      "\n",
      "[ 1  2  3  4  5  6  7  8  9 10 11 12]\n",
      "[[[100   2]\n",
      "  [  3   4]\n",
      "  [  5   6]]\n",
      "\n",
      " [[  7   8]\n",
      "  [  9  10]\n",
      "  [ 11  12]]]\n"
     ]
    }
   ],
   "source": [
    "# ravel\n",
    "arr1 = arr.reshape(2,3,2)\n",
    "print(arr)\n",
    "print(arr1)\n",
    "new_arr = arr1.ravel()\n",
    "print()\n",
    "print(new_arr)\n",
    "\n",
    "# change in array\n",
    "new_arr[0]=100\n",
    "print(arr1)\n"
   ]
  },
  {
   "cell_type": "code",
   "execution_count": 21,
   "id": "b135c0d0",
   "metadata": {},
   "outputs": [
    {
     "name": "stdout",
     "output_type": "stream",
     "text": [
      "[ 1  2  3  4  5  6  7  8  9 10 11 12 13 14 15 16 17 18 19 20]\n",
      "[[[ 1  2]\n",
      "  [ 3  4]\n",
      "  [ 5  6]\n",
      "  [ 7  8]\n",
      "  [ 9 10]]\n",
      "\n",
      " [[11 12]\n",
      "  [13 14]\n",
      "  [15 16]\n",
      "  [17 18]\n",
      "  [19 20]]]\n",
      "\n",
      "[ 1  2  3  4  5  6  7  8  9 10 11 12 13 14 15 16 17 18 19 20]\n",
      "[[[ 1  2]\n",
      "  [ 3  4]\n",
      "  [ 5  6]\n",
      "  [ 7  8]\n",
      "  [ 9 10]]\n",
      "\n",
      " [[11 12]\n",
      "  [13 14]\n",
      "  [15 16]\n",
      "  [17 18]\n",
      "  [19 20]]]\n"
     ]
    }
   ],
   "source": [
    "# flatten \n",
    "arr2 = np.arange(1,21)\n",
    "print(arr2)\n",
    "\n",
    "arr3 = arr2.reshape(2,5,2)\n",
    "\n",
    "print(arr3)\n",
    "flat_arr = arr3.flatten()\n",
    "print()\n",
    "print(flat_arr)\n",
    "\n",
    "# change \n",
    "\n",
    "flat_arr[0] = 100\n",
    "print(arr3)"
   ]
  },
  {
   "cell_type": "code",
   "execution_count": 26,
   "id": "028aa46a",
   "metadata": {},
   "outputs": [
    {
     "name": "stdout",
     "output_type": "stream",
     "text": [
      "[[2 3 4]\n",
      " [3 4 5]\n",
      " [9 8 7]]\n",
      "[2 3 4 3 4 5 9 8 7]\n",
      "[[100   3   4]\n",
      " [  3   4   5]\n",
      " [  9   8   7]]\n"
     ]
    }
   ],
   "source": [
    "new_arr1=np.array([[2,3,4],[3,4,5],[9,8,7]])\n",
    "print(new_arr1)\n",
    "\n",
    "new_arr2 = new_arr1.reshape(-1)\n",
    "print(new_arr2)\n",
    "\n",
    "new_arr2[0]=100\n",
    "print(new_arr1)"
   ]
  }
 ],
 "metadata": {
  "kernelspec": {
   "display_name": "learning (3.12.5)",
   "language": "python",
   "name": "python3"
  },
  "language_info": {
   "codemirror_mode": {
    "name": "ipython",
    "version": 3
   },
   "file_extension": ".py",
   "mimetype": "text/x-python",
   "name": "python",
   "nbconvert_exporter": "python",
   "pygments_lexer": "ipython3",
   "version": "3.12.5"
  }
 },
 "nbformat": 4,
 "nbformat_minor": 5
}
