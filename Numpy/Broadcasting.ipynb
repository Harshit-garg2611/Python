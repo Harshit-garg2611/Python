{
 "cells": [
  {
   "cell_type": "code",
   "execution_count": 1,
   "id": "c22703e0",
   "metadata": {},
   "outputs": [],
   "source": [
    "import numpy as np"
   ]
  },
  {
   "cell_type": "code",
   "execution_count": 3,
   "id": "972dc320",
   "metadata": {},
   "outputs": [
    {
     "name": "stdout",
     "output_type": "stream",
     "text": [
      "[6 7 8 9]\n"
     ]
    }
   ],
   "source": [
    "a = np.array([1,2,3,4])\n",
    "b=np.array([5])  # behave as [5,5,5,5]\n",
    "\n",
    "print(a+b)"
   ]
  },
  {
   "cell_type": "code",
   "execution_count": null,
   "id": "d3c5b5aa",
   "metadata": {},
   "outputs": [
    {
     "name": "stdout",
     "output_type": "stream",
     "text": [
      "[[2 3 4]\n",
      " [3 4 5]\n",
      " [4 5 6]]\n"
     ]
    }
   ],
   "source": [
    "c = np.array([[1],[2],[3]]) # 3x1\n",
    "d = np.array([1,2,3])  # 1x3\n",
    "print(c+d)  # 3x3"
   ]
  },
  {
   "cell_type": "code",
   "execution_count": null,
   "id": "728bcedb",
   "metadata": {},
   "outputs": [
    {
     "ename": "ValueError",
     "evalue": "operands could not be broadcast together with shapes (2,3) (3,2) ",
     "output_type": "error",
     "traceback": [
      "\u001b[31m---------------------------------------------------------------------------\u001b[39m",
      "\u001b[31mValueError\u001b[39m                                Traceback (most recent call last)",
      "\u001b[36mCell\u001b[39m\u001b[36m \u001b[39m\u001b[32mIn[5]\u001b[39m\u001b[32m, line 6\u001b[39m\n\u001b[32m      2\u001b[39m f = np.array([[\u001b[32m2\u001b[39m,\u001b[32m3\u001b[39m],[\u001b[32m4\u001b[39m,\u001b[32m5\u001b[39m],[\u001b[32m1\u001b[39m,\u001b[32m7\u001b[39m]])   \u001b[38;5;66;03m# 3x2\u001b[39;00m\n\u001b[32m      4\u001b[39m \u001b[38;5;66;03m#  operations not possible dimensions different and not anyone of them has rhs=1\u001b[39;00m\n\u001b[32m----> \u001b[39m\u001b[32m6\u001b[39m \u001b[38;5;28mprint\u001b[39m(\u001b[43me\u001b[49m\u001b[43m+\u001b[49m\u001b[43mf\u001b[49m)\n",
      "\u001b[31mValueError\u001b[39m: operands could not be broadcast together with shapes (2,3) (3,2) "
     ]
    }
   ],
   "source": [
    "e = np.array([[2,3,4],[2,3,4]])   # 2x3\n",
    "f = np.array([[2,3],[4,5],[1,7]])   # 3x2\n",
    "\n",
    "#  operations not possible dimensions different and not anyone of them=1 dim\n",
    "\n",
    "print(e+f)"
   ]
  }
 ],
 "metadata": {
  "kernelspec": {
   "display_name": "learning (3.12.5)",
   "language": "python",
   "name": "python3"
  },
  "language_info": {
   "codemirror_mode": {
    "name": "ipython",
    "version": 3
   },
   "file_extension": ".py",
   "mimetype": "text/x-python",
   "name": "python",
   "nbconvert_exporter": "python",
   "pygments_lexer": "ipython3",
   "version": "3.12.5"
  }
 },
 "nbformat": 4,
 "nbformat_minor": 5
}
