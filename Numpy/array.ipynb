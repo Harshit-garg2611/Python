{
 "cells": [
  {
   "cell_type": "code",
   "execution_count": 50,
   "id": "8e31db8b",
   "metadata": {},
   "outputs": [],
   "source": [
    "import numpy as np"
   ]
  },
  {
   "cell_type": "markdown",
   "id": "e5519157",
   "metadata": {},
   "source": [
    "# Creation of Array :\n",
    "- Step 1 : import numpy as np \n",
    "- Step 2 : var_name = np.array( [ list pass ] )\n",
    "\n",
    "- > To check dimension of array : var_name.ndim\n",
    "- > To check size (i.e. no. of elements in array ) : var_name.size \n",
    "\n",
    "- Shortcut to create a n-d array\n",
    "\n",
    "```python\n",
    "import numpy as np\n",
    "\n",
    "arrn = np.array([1,2,3,4], ndmin=10)\n",
    "\n",
    "```"
   ]
  },
  {
   "cell_type": "code",
   "execution_count": 51,
   "id": "a62166a8",
   "metadata": {},
   "outputs": [
    {
     "name": "stdout",
     "output_type": "stream",
     "text": [
      "[ 2  4  8 16 32 64] <class 'numpy.ndarray'>\n",
      "1\n",
      "6\n"
     ]
    }
   ],
   "source": [
    "squares = [2,4,8,16,32,64]\n",
    "\n",
    "squ_arr = np.array(squares)\n",
    "\n",
    "print(squ_arr, type(squ_arr))\n",
    "\n",
    "# check dimension\n",
    "print(squ_arr.ndim)\n",
    "\n",
    "\n",
    "# check size \n",
    "print(squ_arr.size)"
   ]
  },
  {
   "cell_type": "code",
   "execution_count": 52,
   "id": "c765c07c",
   "metadata": {},
   "outputs": [
    {
     "name": "stdout",
     "output_type": "stream",
     "text": [
      "[[[[[ 2  4  8 16 32 64]]]]] 5 (1, 1, 1, 1, 6)\n"
     ]
    }
   ],
   "source": [
    "# Create a n-d array \n",
    "\n",
    "squ_5arr = np.array(squares,ndmin=5)\n",
    "\n",
    "print(squ_5arr,squ_5arr.ndim, squ_5arr.shape)"
   ]
  },
  {
   "cell_type": "markdown",
   "id": "b1b3571d",
   "metadata": {},
   "source": [
    " # NumPy array with functions (special arrays): "
   ]
  },
  {
   "cell_type": "code",
   "execution_count": 53,
   "id": "a5567233",
   "metadata": {},
   "outputs": [
    {
     "name": "stdout",
     "output_type": "stream",
     "text": [
      "[ 1  3  5  7  9 11 13 15 17 19 21 23]\n"
     ]
    }
   ],
   "source": [
    "# 1. Create an array with a specific range \n",
    "\n",
    "range_array = np.arange(1,25,2)  # start stop step \n",
    "print(range_array)\n",
    "\n",
    "\n",
    "# Build a 1-d array\n",
    "# > will use reshape to make it to n-d further ."
   ]
  },
  {
   "cell_type": "code",
   "execution_count": 54,
   "id": "77bb217e",
   "metadata": {},
   "outputs": [
    {
     "name": "stdout",
     "output_type": "stream",
     "text": [
      "[0.   0.25 0.5  0.75 1.  ]\n"
     ]
    }
   ],
   "source": [
    "# 2. Create array with values that are spaced linearly at a specific interval\n",
    "\n",
    "spaced_array = np.linspace(0,1,5) # start stop no._of_elements\n",
    "\n",
    "print(spaced_array)"
   ]
  },
  {
   "cell_type": "code",
   "execution_count": 55,
   "id": "17413bf0",
   "metadata": {},
   "outputs": [
    {
     "name": "stdout",
     "output_type": "stream",
     "text": [
      "[  10.           31.6227766   100.          316.22776602 1000.        ]\n"
     ]
    }
   ],
   "source": [
    "# 3. logarithmic scale array \n",
    "\n",
    "log_array = np.logspace(1,3,5)  # 10^1 to 10^3 5 values \n",
    "\n",
    "print(log_array)"
   ]
  },
  {
   "cell_type": "code",
   "execution_count": 56,
   "id": "e7be8ea7",
   "metadata": {},
   "outputs": [
    {
     "name": "stdout",
     "output_type": "stream",
     "text": [
      "[0. 0. 0. 0.]\n",
      "\n",
      "[[0 0 0 0 0]\n",
      " [0 0 0 0 0]\n",
      " [0 0 0 0 0]\n",
      " [0 0 0 0 0]]\n"
     ]
    }
   ],
   "source": [
    "#  4. array filled with zeroes or ones : \n",
    "\n",
    "zero_array = np.zeros([4])\n",
    "print(zero_array)\n",
    "\n",
    "\n",
    "# you can also define the dimension and number of elements like \n",
    "print()\n",
    "# create array filled with zeros having 4 rows and 5 columns \n",
    "\n",
    "\n",
    "print(np.zeros([4,5], dtype=int))  # we can also define data type "
   ]
  },
  {
   "cell_type": "code",
   "execution_count": 57,
   "id": "6bdd32c3",
   "metadata": {},
   "outputs": [
    {
     "name": "stdout",
     "output_type": "stream",
     "text": [
      "[1. 1. 1. 1. 1. 1.]\n",
      "\n",
      "[[[1. 1. 1. 1.]\n",
      "  [1. 1. 1. 1.]]\n",
      "\n",
      " [[1. 1. 1. 1.]\n",
      "  [1. 1. 1. 1.]]\n",
      "\n",
      " [[1. 1. 1. 1.]\n",
      "  [1. 1. 1. 1.]]]\n"
     ]
    }
   ],
   "source": [
    "print(np.ones(6))  # 1-d array\n",
    "\n",
    "print()\n",
    "\n",
    "print(np.ones([3,2,4]))"
   ]
  },
  {
   "cell_type": "code",
   "execution_count": 58,
   "id": "d5d50210",
   "metadata": {},
   "outputs": [
    {
     "name": "stdout",
     "output_type": "stream",
     "text": [
      "[[7 7 7 7 7]\n",
      " [7 7 7 7 7]\n",
      " [7 7 7 7 7]\n",
      " [7 7 7 7 7]]\n"
     ]
    }
   ],
   "source": [
    "#  5 . Create array with our choice of value \n",
    "\n",
    "custom_arr = np.full([4,5],7)  # dimension [rows,col], value\n",
    "print(custom_arr)"
   ]
  },
  {
   "cell_type": "code",
   "execution_count": 59,
   "id": "f88fa299",
   "metadata": {},
   "outputs": [
    {
     "name": "stdout",
     "output_type": "stream",
     "text": [
      "[4607182418800017408 4607182418800017408 4607182418800017408\n",
      " 4607182418800017408 4607182418800017408 4607182418800017408]\n"
     ]
    }
   ],
   "source": [
    "# 6. Empty array : replace `.empty` with zeroes and pass dimension as same \n",
    "\n",
    "# It is uninitialised array\n",
    "empty_arr =  np.empty(6,dtype=int)\n",
    "print(empty_arr)\n",
    "\n",
    "\n",
    "# > `Note `: In empty array it occupies the memory of previous build array in the memory if left unfiled ."
   ]
  },
  {
   "cell_type": "code",
   "execution_count": 60,
   "id": "c3acb64b",
   "metadata": {},
   "outputs": [
    {
     "name": "stdout",
     "output_type": "stream",
     "text": [
      "[[1 0 0 0]\n",
      " [0 1 0 0]\n",
      " [0 0 1 0]\n",
      " [0 0 0 1]]\n"
     ]
    }
   ],
   "source": [
    "# 7. identity matrix : \n",
    "# np.eye(dimension)\n",
    "# It create a dimension x dimension identity matrix \n",
    "\n",
    "\n",
    "print(np.eye(4,4,dtype=int))"
   ]
  },
  {
   "cell_type": "markdown",
   "id": "3dad782b",
   "metadata": {},
   "source": [
    "## Array creation with Random numbers"
   ]
  },
  {
   "cell_type": "code",
   "execution_count": null,
   "id": "dfafe0ea",
   "metadata": {},
   "outputs": [
    {
     "name": "stdout",
     "output_type": "stream",
     "text": [
      "[0.80792661 0.34351722 0.4752379  0.60247082 0.48592857 0.698096\n",
      " 0.85971757 0.62340075 0.69151989 0.70402546]\n"
     ]
    }
   ],
   "source": [
    "print(np.random.rand(10))"
   ]
  },
  {
   "cell_type": "markdown",
   "id": "76651a6b",
   "metadata": {},
   "source": [
    "- Numpy provide you `random` module to work with random numbers.\n"
   ]
  },
  {
   "cell_type": "code",
   "execution_count": 67,
   "id": "422391b6",
   "metadata": {},
   "outputs": [
    {
     "name": "stdout",
     "output_type": "stream",
     "text": [
      "[[0.21143577 0.88215753 0.04951566]\n",
      " [0.23518065 0.94559649 0.96858443]]\n"
     ]
    }
   ],
   "source": [
    "print(np.random.rand(2,3))  # Don't provide square bracket as dimension it will be treated as list in random module "
   ]
  },
  {
   "cell_type": "code",
   "execution_count": null,
   "id": "71573158",
   "metadata": {},
   "outputs": [
    {
     "name": "stdout",
     "output_type": "stream",
     "text": [
      "[[0.15776021 0.93351427]\n",
      " [0.30065916 0.0201358 ]\n",
      " [0.76289957 0.58924893]\n",
      " [0.79945261 0.76186626]]\n"
     ]
    }
   ],
   "source": [
    "# 1. rand() : Returns a random float between 0 and 1.\n",
    "# It generates the 1-d array of random value between 0 & 1 of number of elements provided .\n",
    "# To generate a random array of n dimension just pass rows and coloumns in place of number of elements\n",
    "\n",
    "var_name = np.random.rand(4,2)\n",
    "print(var_name)\n"
   ]
  },
  {
   "cell_type": "code",
   "execution_count": 69,
   "id": "4571247c",
   "metadata": {},
   "outputs": [
    {
     "name": "stdout",
     "output_type": "stream",
     "text": [
      "[[[0.60280338 0.89117536]\n",
      "  [0.98738288 0.23270472]\n",
      "  [0.08083654 0.51731651]\n",
      "  [0.81872426 0.7712603 ]]\n",
      "\n",
      " [[0.32807248 0.5180383 ]\n",
      "  [0.25974975 0.79627645]\n",
      "  [0.73422734 0.2752349 ]\n",
      "  [0.35520318 0.20208785]]\n",
      "\n",
      " [[0.98126956 0.61831922]\n",
      "  [0.08639617 0.38866209]\n",
      "  [0.86325904 0.95603056]\n",
      "  [0.87919991 0.82327829]]]\n"
     ]
    }
   ],
   "source": [
    "# Q : Generate an array containing numbers from 0 to 1 and having 3-dimension with 3,4,2 elements \n",
    "\n",
    "print(np.random.rand(3,4,2))"
   ]
  },
  {
   "cell_type": "code",
   "execution_count": 72,
   "id": "6e9b52cc",
   "metadata": {},
   "outputs": [
    {
     "name": "stdout",
     "output_type": "stream",
     "text": [
      "[83 66 49 40 30 46 41 31 88 77 83 27 53 65 95 36 59 32 60 84  6 35 26 84\n",
      " 86]\n",
      "\n",
      "[[ 1 10  6  1  4]\n",
      " [ 1  9  7  8  6]\n",
      " [ 4  9  4  2  1]]\n"
     ]
    }
   ],
   "source": [
    "# Similiarly To generate a int in range randint(). \n",
    "\n",
    "print(np.random.randint(1,100, size=25))\n",
    "\n",
    "#  generate a random integer array containing 3 rows and 5 elements in each row in b/w 1 to 10\n",
    "print()\n",
    "print(np.random.randint(1,11, size=(3,5)))"
   ]
  },
  {
   "cell_type": "code",
   "execution_count": 73,
   "id": "cd7ce782",
   "metadata": {},
   "outputs": [
    {
     "name": "stdout",
     "output_type": "stream",
     "text": [
      "[[-0.63877452  1.1766362  -0.26928962  0.40165913]\n",
      " [ 0.41651298 -0.42450791  0.00854628  0.23657627]]\n"
     ]
    }
   ],
   "source": [
    "# 2. randn() :  the function is used to generate random value close to zero . This may return possitive or negative value as well.\n",
    "# random floats from standard normal distribution \n",
    "\n",
    "print(np.random.randn(2,4))"
   ]
  }
 ],
 "metadata": {
  "kernelspec": {
   "display_name": "learning (3.12.5)",
   "language": "python",
   "name": "python3"
  },
  "language_info": {
   "codemirror_mode": {
    "name": "ipython",
    "version": 3
   },
   "file_extension": ".py",
   "mimetype": "text/x-python",
   "name": "python",
   "nbconvert_exporter": "python",
   "pygments_lexer": "ipython3",
   "version": "3.12.5"
  }
 },
 "nbformat": 4,
 "nbformat_minor": 5
}
