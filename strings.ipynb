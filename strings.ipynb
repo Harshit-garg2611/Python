{
 "cells": [
  {
   "cell_type": "markdown",
   "id": "87ef4e8c",
   "metadata": {},
   "source": [
    "# Strings in Python :\n",
    "- A string is a sequence of character\n",
    "\n",
    "## Creating Strings :"
   ]
  },
  {
   "cell_type": "code",
   "execution_count": null,
   "id": "49dfda8c",
   "metadata": {},
   "outputs": [
    {
     "name": "stdout",
     "output_type": "stream",
     "text": [
      "5\n"
     ]
    }
   ],
   "source": [
    "# Single-quoted string\n",
    "a = 'Hello, Python!'\n",
    "\n",
    "\n",
    "# Double-quoted string\n",
    "b = \"Hello, World!\"\n",
    "\n",
    "\n",
    "# Triple-quoted string (useful for multi-line strings)\n",
    "c = '''This is\n",
    "a multi-line\n",
    "string.'''\n",
    "\n",
    "d = \"\"\"Hello\"\"\"\n"
   ]
  },
  {
   "cell_type": "markdown",
   "id": "a00a94a9",
   "metadata": {},
   "source": [
    "# String Indexing : \n",
    "- n = len(str)\n",
    "- str[ -m ] = str[ -m + n ]"
   ]
  },
  {
   "cell_type": "code",
   "execution_count": 4,
   "id": "e71de121",
   "metadata": {},
   "outputs": [
    {
     "name": "stdout",
     "output_type": "stream",
     "text": [
      "s\n",
      " \n",
      "g\n",
      "r\n",
      "r\n",
      "g\n"
     ]
    }
   ],
   "source": [
    "text = \"Harshit garg\"\n",
    "print(text[3])\n",
    "print(text[7])\n",
    "print(text[8])\n",
    "print(text[10])\n",
    "print(text[-2])\n",
    "print(text[-4])"
   ]
  },
  {
   "cell_type": "markdown",
   "id": "1bdff871",
   "metadata": {},
   "source": [
    "# String slicing : \n",
    "- str[ n : m] : start from n to m-1\n",
    "- str[ n : m : o] : skips o-1 character\n",
    "- str [ start : stop : step ]"
   ]
  },
  {
   "cell_type": "code",
   "execution_count": 7,
   "id": "c0c9706b",
   "metadata": {},
   "outputs": [
    {
     "name": "stdout",
     "output_type": "stream",
     "text": [
      "it g\n",
      "Harshit g\n",
      "it garg\n",
      "Hrhtg\n"
     ]
    }
   ],
   "source": [
    "print(text[5:9])\n",
    "print(text[:9])\n",
    "print(text[5:])\n",
    "print(text[:9:2])"
   ]
  },
  {
   "cell_type": "code",
   "execution_count": null,
   "id": "f9c5b8c6",
   "metadata": {},
   "outputs": [
    {
     "name": "stdout",
     "output_type": "stream",
     "text": [
      "grag tihsraH\n"
     ]
    }
   ],
   "source": [
    "#  reverse a string \n",
    "print(text[ : : -1])"
   ]
  }
 ],
 "metadata": {
  "kernelspec": {
   "display_name": "learning",
   "language": "python",
   "name": "python3"
  },
  "language_info": {
   "codemirror_mode": {
    "name": "ipython",
    "version": 3
   },
   "file_extension": ".py",
   "mimetype": "text/x-python",
   "name": "python",
   "nbconvert_exporter": "python",
   "pygments_lexer": "ipython3",
   "version": "3.12.5"
  }
 },
 "nbformat": 4,
 "nbformat_minor": 5
}
