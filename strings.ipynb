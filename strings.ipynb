{
 "cells": [
  {
   "cell_type": "markdown",
   "id": "87ef4e8c",
   "metadata": {},
   "source": [
    "# Strings in Python :\n",
    "- A string is a sequence of character.\n",
    "- Strings are immutable.\n",
    "\n",
    "## Creating Strings :"
   ]
  },
  {
   "cell_type": "code",
   "execution_count": null,
   "id": "49dfda8c",
   "metadata": {},
   "outputs": [
    {
     "name": "stdout",
     "output_type": "stream",
     "text": [
      "5\n"
     ]
    }
   ],
   "source": [
    "# Single-quoted string\n",
    "a = 'Hello, Python!'\n",
    "\n",
    "\n",
    "# Double-quoted string\n",
    "b = \"Hello, World!\"\n",
    "\n",
    "\n",
    "# Triple-quoted string (useful for multi-line strings)\n",
    "c = '''This is\n",
    "a multi-line\n",
    "string.'''\n",
    "\n",
    "d = \"\"\"Hello\"\"\"\n"
   ]
  },
  {
   "cell_type": "markdown",
   "id": "a00a94a9",
   "metadata": {},
   "source": [
    "# String Indexing : \n",
    "- n = len(str) : get length of string \n",
    "- str[ -m ] = str[ -m + n ]"
   ]
  },
  {
   "cell_type": "code",
   "execution_count": 4,
   "id": "e71de121",
   "metadata": {},
   "outputs": [
    {
     "name": "stdout",
     "output_type": "stream",
     "text": [
      "s\n",
      " \n",
      "g\n",
      "r\n",
      "r\n",
      "g\n"
     ]
    }
   ],
   "source": [
    "text = \"Harshit garg\"\n",
    "print(text[3])\n",
    "print(text[7])\n",
    "print(text[8])\n",
    "print(text[10])\n",
    "print(text[-2])\n",
    "print(text[-4])"
   ]
  },
  {
   "cell_type": "markdown",
   "id": "1bdff871",
   "metadata": {},
   "source": [
    "# String slicing : \n",
    "- str[ n : m] : start from n to m-1\n",
    "- str[ n : m : o] : skips o-1 character\n",
    "- str [ start : stop : step ]"
   ]
  },
  {
   "cell_type": "code",
   "execution_count": 7,
   "id": "c0c9706b",
   "metadata": {},
   "outputs": [
    {
     "name": "stdout",
     "output_type": "stream",
     "text": [
      "it g\n",
      "Harshit g\n",
      "it garg\n",
      "Hrhtg\n"
     ]
    }
   ],
   "source": [
    "print(text[5:9])\n",
    "print(text[:9])\n",
    "print(text[5:])\n",
    "print(text[:9:2])"
   ]
  },
  {
   "cell_type": "code",
   "execution_count": null,
   "id": "f9c5b8c6",
   "metadata": {},
   "outputs": [
    {
     "name": "stdout",
     "output_type": "stream",
     "text": [
      "grag tihsraH\n"
     ]
    }
   ],
   "source": [
    "#  reverse a string \n",
    "print(text[ : : -1])"
   ]
  },
  {
   "cell_type": "markdown",
   "id": "1495493a",
   "metadata": {},
   "source": [
    "# String Methods & Functions : \n",
    "## 1. Changing Case :"
   ]
  },
  {
   "cell_type": "code",
   "execution_count": 3,
   "id": "ec79235d",
   "metadata": {},
   "outputs": [
    {
     "name": "stdout",
     "output_type": "stream",
     "text": [
      "HARSHIT GARG\n",
      "harshit garg\n",
      "Harshit Garg\n",
      "Harshit garg\n"
     ]
    }
   ],
   "source": [
    "name = \"harShit garg\"\n",
    "print(name.upper())\n",
    "print(name.lower())\n",
    "print(name.title())  # Change first letter of each word to capital and all other to small\n",
    "print(name.capitalize()) # change only first letter of string and all other to small"
   ]
  },
  {
   "cell_type": "markdown",
   "id": "b14f5eaa",
   "metadata": {},
   "source": [
    "## 2. Remove white spaces "
   ]
  },
  {
   "cell_type": "code",
   "execution_count": 5,
   "id": "1861d18b",
   "metadata": {},
   "outputs": [
    {
     "name": "stdout",
     "output_type": "stream",
     "text": [
      "hello world\n",
      "hello world  \n",
      "  hello world\n"
     ]
    }
   ],
   "source": [
    "text = \"  hello world  \"\n",
    "print(text.strip()) # Output: \"hello world\"\n",
    "print(text.lstrip()) # Output: \"hello world  \"\n",
    "print(text.rstrip()) # Output: \"  hello world\""
   ]
  },
  {
   "cell_type": "markdown",
   "id": "18762c08",
   "metadata": {},
   "source": [
    "## 3. Find and replace :"
   ]
  },
  {
   "cell_type": "code",
   "execution_count": 16,
   "id": "f2d2e8ab",
   "metadata": {},
   "outputs": [
    {
     "name": "stdout",
     "output_type": "stream",
     "text": [
      "-1\n",
      "Python is fun is fun is fun 1251\n",
      "-1\n",
      "7\n"
     ]
    }
   ],
   "source": [
    "text = \"Python was fun was fun was fun 1251\"\n",
    "print(text.find(\"is\"))\n",
    "print(text.replace(\"was\", \"is\"))\n",
    "print(text.find(\"is\")) # because strings are immutable -1 \n",
    "print(text.find(\"was\"))"
   ]
  },
  {
   "cell_type": "markdown",
   "id": "432d2927",
   "metadata": {},
   "source": [
    "## 4. Spliting & Joining :\n"
   ]
  },
  {
   "cell_type": "code",
   "execution_count": null,
   "id": "5376f527",
   "metadata": {},
   "outputs": [
    {
     "name": "stdout",
     "output_type": "stream",
     "text": [
      "['apple', 'banana-orange/mango']\n",
      "['apple,banana', 'orange/mango']\n",
      "['apple,banana-orange', 'mango']\n"
     ]
    }
   ],
   "source": [
    "fruits = \"apple,banana-orange/mango\"\n",
    "\n",
    "# Spliting \n",
    "print(fruits.split(\",\"))\n",
    "print(fruits.split(\"-\"))\n",
    "print(fruits.split(\"/\"))"
   ]
  },
  {
   "cell_type": "code",
   "execution_count": 13,
   "id": "0b6a68c3",
   "metadata": {},
   "outputs": [
    {
     "name": "stdout",
     "output_type": "stream",
     "text": [
      "a-p-p-l-e-,-b-a-n-a-n-a---o-r-a-n-g-e-/-m-a-n-g-o\n",
      "a-p-p-l-e-,-o-r-a-n-g-e-,-b-a-n-a-n-a\n"
     ]
    }
   ],
   "source": [
    "# Joining \n",
    "print(\"-\".join(fruits))\n",
    "\n",
    "fruits = \"apple,orange,banana\"\n",
    "print(\"-\".join(fruits))"
   ]
  },
  {
   "cell_type": "code",
   "execution_count": 38,
   "id": "2bf21504",
   "metadata": {},
   "outputs": [
    {
     "name": "stdout",
     "output_type": "stream",
     "text": [
      "orange-apple-mango\n",
      "True\n",
      "False\n",
      "False\n",
      "False\n",
      "False\n",
      "True\n",
      "True\n",
      "True\n",
      "True\n"
     ]
    }
   ],
   "source": [
    "print(\"-\".join(['orange','apple','mango']))\n",
    "\n",
    "print(text.isascii())\n",
    "print(text.isalnum())\n",
    "print(\"pytho n\".isalpha())\n",
    "print(text.isalpha())\n",
    "print(text.isspace())\n",
    "print(\"   \".isspace())\n",
    "print(\"123\".isdigit())\n",
    "print(\"123387\".isdigit())\n",
    "print(\"1287\".isdecimal())\n"
   ]
  },
  {
   "cell_type": "markdown",
   "id": "2c1d9e58",
   "metadata": {},
   "source": [
    "# ord() & chr():\n",
    "ord() and chr() are built-in functions that facilitate conversion between characters and their corresponding Unicode code points (integer representations). They are essentially inverse functions of each other."
   ]
  },
  {
   "cell_type": "code",
   "execution_count": 41,
   "id": "be30bc4a",
   "metadata": {},
   "outputs": [
    {
     "name": "stdout",
     "output_type": "stream",
     "text": [
      "65\n",
      "B\n"
     ]
    }
   ],
   "source": [
    "print(ord('A'))\n",
    "print(chr(66))"
   ]
  },
  {
   "cell_type": "markdown",
   "id": "e2b57d11",
   "metadata": {},
   "source": [
    "# String formatting & f-strings :"
   ]
  },
  {
   "cell_type": "code",
   "execution_count": 46,
   "id": "28cc6ee8",
   "metadata": {},
   "outputs": [
    {
     "name": "stdout",
     "output_type": "stream",
     "text": [
      "My self Harshit . My hobby is playing chess\n"
     ]
    }
   ],
   "source": [
    "# formatting : method to dynamiccaly insert in between strings \n",
    "\n",
    "template = \"My self {} . My hobby is {}\"\n",
    "a = \"Harshit\"\n",
    "b = \"playing chess\"\n",
    "\n",
    "print(template.format(a,b))"
   ]
  },
  {
   "cell_type": "code",
   "execution_count": 47,
   "id": "18627aed",
   "metadata": {},
   "outputs": [
    {
     "name": "stdout",
     "output_type": "stream",
     "text": [
      "My self Harshit. My hobby is playing chess\n",
      "The sum of 10 and 5 is 15\n"
     ]
    }
   ],
   "source": [
    "# f-strings\n",
    "print(f\"My self {a}. My hobby is {b}\")\n",
    "\n",
    "\n",
    "# used to perform calculations \n",
    "x = 10\n",
    "y = 5\n",
    "print(f\"The sum of {x} and {y} is {x + y}\")"
   ]
  }
 ],
 "metadata": {
  "kernelspec": {
   "display_name": "learning (3.12.5)",
   "language": "python",
   "name": "python3"
  },
  "language_info": {
   "codemirror_mode": {
    "name": "ipython",
    "version": 3
   },
   "file_extension": ".py",
   "mimetype": "text/x-python",
   "name": "python",
   "nbconvert_exporter": "python",
   "pygments_lexer": "ipython3",
   "version": "3.12.5"
  }
 },
 "nbformat": 4,
 "nbformat_minor": 5
}
