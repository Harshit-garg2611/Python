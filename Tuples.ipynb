{
 "cells": [
  {
   "cell_type": "markdown",
   "id": "aa5eca5e",
   "metadata": {},
   "source": [
    "# Tuples :\n",
    "Tuples are ordered but immutable collections (cannot be changed after creation)\n",
    "\n",
    "## Why use Tuples : \n",
    "1. Faster than lists (since they are immutable)\n",
    "2. Used as dictionary keys (since they are hashable)\n",
    "3. Safe from unintended modifications"
   ]
  },
  {
   "cell_type": "code",
   "execution_count": null,
   "id": "7c428147",
   "metadata": {},
   "outputs": [
    {
     "name": "stdout",
     "output_type": "stream",
     "text": [
      "54\n"
     ]
    }
   ],
   "source": [
    "my_tuple = (34,78,54,21,67)\n",
    "\n",
    "print(my_tuple[2])"
   ]
  },
  {
   "cell_type": "code",
   "execution_count": 3,
   "id": "7cfb8999",
   "metadata": {},
   "outputs": [
    {
     "name": "stdout",
     "output_type": "stream",
     "text": [
      "<class 'tuple'>\n",
      "<class 'int'>\n"
     ]
    }
   ],
   "source": [
    "# Tuple with one element : comma is required \n",
    "\n",
    "tup = (45,)\n",
    "print(type(tup))\n",
    "\n",
    "tup1=(6)\n",
    "print(type(tup1))"
   ]
  },
  {
   "cell_type": "code",
   "execution_count": 5,
   "id": "8fcf28bc",
   "metadata": {},
   "outputs": [
    {
     "name": "stdout",
     "output_type": "stream",
     "text": [
      "34 78 54 21 67\n"
     ]
    }
   ],
   "source": [
    "# Tuple Unpacking : \n",
    "\n",
    "a,b,c,d,e = my_tuple\n",
    "print(a,b,c,d,e)"
   ]
  },
  {
   "cell_type": "markdown",
   "id": "5c64cfa6",
   "metadata": {},
   "source": [
    "## Common Tuple methods :\n"
   ]
  },
  {
   "cell_type": "code",
   "execution_count": 8,
   "id": "f21776dc",
   "metadata": {},
   "outputs": [
    {
     "name": "stdout",
     "output_type": "stream",
     "text": [
      "4\n"
     ]
    }
   ],
   "source": [
    "#  1. count(x) : Returns the number of times x is present in tuple \n",
    "\n",
    "number = (2,3,6,1,2,3,21,2,1,21,6,7,8,2,1,2,1,2)\n",
    "\n",
    "print(number.count(1))"
   ]
  },
  {
   "cell_type": "code",
   "execution_count": 7,
   "id": "08d7c0e4",
   "metadata": {},
   "outputs": [
    {
     "name": "stdout",
     "output_type": "stream",
     "text": [
      "6\n"
     ]
    }
   ],
   "source": [
    "# 2, index(x) : gives index of first occurence \n",
    "print(number.index(21))"
   ]
  }
 ],
 "metadata": {
  "kernelspec": {
   "display_name": "learning (3.12.5)",
   "language": "python",
   "name": "python3"
  },
  "language_info": {
   "codemirror_mode": {
    "name": "ipython",
    "version": 3
   },
   "file_extension": ".py",
   "mimetype": "text/x-python",
   "name": "python",
   "nbconvert_exporter": "python",
   "pygments_lexer": "ipython3",
   "version": "3.12.5"
  }
 },
 "nbformat": 4,
 "nbformat_minor": 5
}
