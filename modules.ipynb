{
 "cells": [
  {
   "cell_type": "markdown",
   "id": "9d93ad24",
   "metadata": {},
   "source": [
    "# Modules\n",
    "- Built in or third party codes that can be used for easy\n",
    "\n",
    "## Modules v/s Packages : \n",
    "- A module in Python is essentially a single Python file containing code, such as functions, classes, variables, and executable statements. (.py)\n",
    "- A package is a way to organize related modules into a directory hierarchy. It is essentially a directory that contains multiple modules and, crucially, a special file named __init__.py\n",
    "\n",
    "### Purpose:\n",
    "- Modules provide a basic unit of code organization and reusability. Packages provide a way to organize larger projects, manage namespaces, and facilitate the distribution of code\n",
    "\n",
    "## pip : \n",
    "- pip (Pip Installs Packages) is the standard package installer for Python. It is a command-line utility used to install, upgrade, and manage Python packages from the Python Package Index (PyPI"
   ]
  },
  {
   "cell_type": "code",
   "execution_count": 1,
   "id": "d62e5dd6",
   "metadata": {},
   "outputs": [
    {
     "name": "stdout",
     "output_type": "stream",
     "text": [
      "6.0\n"
     ]
    }
   ],
   "source": [
    "# Using math module\n",
    "import math\n",
    "print(math.sqrt(36))"
   ]
  },
  {
   "cell_type": "markdown",
   "id": "1a87eaca",
   "metadata": {},
   "source": [
    "## Two types of modules : \n",
    "1. Internal like above \n",
    "2. external : custom made, pip install packages "
   ]
  },
  {
   "cell_type": "markdown",
   "id": "c79ad869",
   "metadata": {},
   "source": [
    "## Creating our own module "
   ]
  },
  {
   "cell_type": "code",
   "execution_count": 3,
   "id": "4d55fa02",
   "metadata": {},
   "outputs": [
    {
     "name": "stdout",
     "output_type": "stream",
     "text": [
      "Hello Silent killer !\n",
      "Square function :  25\n"
     ]
    }
   ],
   "source": [
    "# step 1 :make a file name with .py \n",
    "# step 2 : import that file \n",
    "import main\n",
    "# step 3 : use functions available in that file \n",
    "print(main.greet(\"Silent killer\"))\n",
    "print(\"Square function : \",main.func(5))"
   ]
  }
 ],
 "metadata": {
  "kernelspec": {
   "display_name": "learning (3.12.5)",
   "language": "python",
   "name": "python3"
  },
  "language_info": {
   "codemirror_mode": {
    "name": "ipython",
    "version": 3
   },
   "file_extension": ".py",
   "mimetype": "text/x-python",
   "name": "python",
   "nbconvert_exporter": "python",
   "pygments_lexer": "ipython3",
   "version": "3.12.5"
  }
 },
 "nbformat": 4,
 "nbformat_minor": 5
}
