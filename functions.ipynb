{
 "cells": [
  {
   "cell_type": "markdown",
   "id": "61735c8f",
   "metadata": {},
   "source": [
    "# Functions : \n",
    "- Block of reusable code \n",
    "- syntax : \n",
    "```python\n",
    " def function_name(parameter) :\n",
    "    statement\n",
    "    return\n",
    "```"
   ]
  },
  {
   "cell_type": "code",
   "execution_count": 8,
   "id": "e5cc6549",
   "metadata": {},
   "outputs": [
    {
     "name": "stdout",
     "output_type": "stream",
     "text": [
      "Hello Boss !\n"
     ]
    }
   ],
   "source": [
    "def greetings(name):\n",
    "    return f\"Hello {name} !\"\n",
    "print(greetings(\"Boss\"))"
   ]
  },
  {
   "cell_type": "markdown",
   "id": "8bea8bd4",
   "metadata": {},
   "source": [
    "# Lambda Functions : \n",
    "These functions are anonymous inline functions"
   ]
  },
  {
   "cell_type": "code",
   "execution_count": 17,
   "id": "17d56fc9",
   "metadata": {},
   "outputs": [
    {
     "name": "stdout",
     "output_type": "stream",
     "text": [
      "4\n",
      "5\n"
     ]
    }
   ],
   "source": [
    "square = lambda x : x*x\n",
    "print(square(2))\n",
    "\n",
    "sum = lambda x,y: x+y\n",
    "print(sum(2,3))"
   ]
  },
  {
   "cell_type": "markdown",
   "id": "8c1ef67f",
   "metadata": {},
   "source": [
    "# Recursion : \n",
    "Function calling itself . \n",
    "- Must have a base case to avoid infinite recursion"
   ]
  },
  {
   "cell_type": "code",
   "execution_count": 18,
   "id": "8e987fd3",
   "metadata": {},
   "outputs": [],
   "source": [
    "# Fibonacci series : \n",
    "\n",
    "def fibonacci(n):\n",
    "    if n==0 or n==1:\n",
    "        return n\n",
    "    return fibonacci(n-1)+fibonacci(n-2)\n"
   ]
  },
  {
   "cell_type": "code",
   "execution_count": 20,
   "id": "b0b52ed4",
   "metadata": {},
   "outputs": [
    {
     "name": "stdout",
     "output_type": "stream",
     "text": [
      "0\n",
      "1\n",
      "1\n",
      "2\n",
      "3\n",
      "5\n",
      "8\n",
      "13\n"
     ]
    }
   ],
   "source": [
    "print(fibonacci(0))\n",
    "print(fibonacci(1))\n",
    "print(fibonacci(2))\n",
    "print(fibonacci(3))\n",
    "print(fibonacci(4))\n",
    "print(fibonacci(5))\n",
    "print(fibonacci(6))\n",
    "print(fibonacci(7))"
   ]
  },
  {
   "cell_type": "markdown",
   "id": "03be65ec",
   "metadata": {},
   "source": [
    "# Function Scope & LifeTime "
   ]
  },
  {
   "cell_type": "markdown",
   "id": "3c9a97f1",
   "metadata": {},
   "source": [
    "- In Python, `variables` have `scope (where they can be accessed) and lifetime` (how long they exist). Variables are created when a function is called and destroyed when it returns. Understanding scope helps avoid unintended errors and improves code organization.\n",
    "## Types of Scope in Python\n",
    "### 1. Local Scope (inside a function) :\n",
    "– Variables declared inside a function are accessible only within that function.\n",
    "### 2. Global Scope (accessible everywhere) – \n",
    "Variables declared outside any function can be used throughout the program.\n",
    "\n"
   ]
  },
  {
   "cell_type": "code",
   "execution_count": 1,
   "id": "71e330ee",
   "metadata": {},
   "outputs": [
    {
     "name": "stdout",
     "output_type": "stream",
     "text": [
      "10\n",
      "5\n",
      "10\n"
     ]
    }
   ],
   "source": [
    "# e.g. : \n",
    "x = 10 # global scope \n",
    "\n",
    "def sum():\n",
    "    x=5 # local scope\n",
    "    print(x)\n",
    "    \n",
    "print(x)\n",
    "sum()\n",
    "print(x)"
   ]
  },
  {
   "cell_type": "code",
   "execution_count": null,
   "id": "e5d824ac",
   "metadata": {},
   "outputs": [
    {
     "name": "stdout",
     "output_type": "stream",
     "text": [
      "8\n",
      "8\n",
      "5\n"
     ]
    }
   ],
   "source": [
    "# To modify a global variable inside a function, use the  global  keyword\n",
    "\n",
    "y = 8\n",
    "\n",
    "def number():\n",
    "    global y  # this modify global variable \n",
    "    print(y)\n",
    "    y=5\n",
    "    print(y)\n",
    "\n",
    "\n",
    "print(y)\n",
    "number()"
   ]
  },
  {
   "cell_type": "markdown",
   "id": "19a1be4f",
   "metadata": {},
   "source": [
    "#  Docstrings - Writing Function Documentation\n",
    "- Docstrings are used to document functions, classes, and modules. In Python, they\n",
    "are written in triple quotes.\n",
    "- They are accessible using the  \\_\\_doc__  attribute. \n"
   ]
  },
  {
   "cell_type": "code",
   "execution_count": 4,
   "id": "471de9e6",
   "metadata": {},
   "outputs": [],
   "source": [
    "def add(a, b):\n",
    "    \"\"\"\n",
    "    Returns the sum of two numbers.\n",
    "    Parameters:\n",
    "    a (int): The first number.\n",
    "    b (int): The second number.\n",
    "    Returns:\n",
    "    int: The sum of the two numbers.\n",
    "    \"\"\"\n",
    "    return (a+b)"
   ]
  },
  {
   "cell_type": "code",
   "execution_count": 5,
   "id": "995ba46e",
   "metadata": {},
   "outputs": [
    {
     "name": "stdout",
     "output_type": "stream",
     "text": [
      "8\n"
     ]
    }
   ],
   "source": [
    "print(add(3,5))"
   ]
  },
  {
   "cell_type": "code",
   "execution_count": 6,
   "id": "47827fd4",
   "metadata": {},
   "outputs": [
    {
     "name": "stdout",
     "output_type": "stream",
     "text": [
      "\n",
      "    Returns the sum of two numbers.\n",
      "    Parameters:\n",
      "    a (int): The first number.\n",
      "    b (int): The second number.\n",
      "    Returns:\n",
      "    int: The sum of the two numbers.\n",
      "    \n"
     ]
    }
   ],
   "source": [
    "print(add.__doc__)"
   ]
  }
 ],
 "metadata": {
  "kernelspec": {
   "display_name": "learning (3.12.5)",
   "language": "python",
   "name": "python3"
  },
  "language_info": {
   "codemirror_mode": {
    "name": "ipython",
    "version": 3
   },
   "file_extension": ".py",
   "mimetype": "text/x-python",
   "name": "python",
   "nbconvert_exporter": "python",
   "pygments_lexer": "ipython3",
   "version": "3.12.5"
  }
 },
 "nbformat": 4,
 "nbformat_minor": 5
}
