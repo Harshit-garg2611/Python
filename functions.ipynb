{
 "cells": [
  {
   "cell_type": "markdown",
   "id": "61735c8f",
   "metadata": {},
   "source": [
    "# Functions : \n",
    "- Block of reusable code \n",
    "- syntax : \n",
    "```python\n",
    " def function_name(parameter) :\n",
    "    statement\n",
    "    return\n",
    "```"
   ]
  },
  {
   "cell_type": "code",
   "execution_count": 8,
   "id": "e5cc6549",
   "metadata": {},
   "outputs": [
    {
     "name": "stdout",
     "output_type": "stream",
     "text": [
      "Hello Boss !\n"
     ]
    }
   ],
   "source": [
    "def greetings(name):\n",
    "    return f\"Hello {name} !\"\n",
    "print(greetings(\"Boss\"))"
   ]
  },
  {
   "cell_type": "markdown",
   "id": "8bea8bd4",
   "metadata": {},
   "source": [
    "# Lambda Functions : \n",
    "These functions are anonymous inline functions"
   ]
  },
  {
   "cell_type": "code",
   "execution_count": 17,
   "id": "17d56fc9",
   "metadata": {},
   "outputs": [
    {
     "name": "stdout",
     "output_type": "stream",
     "text": [
      "4\n",
      "5\n"
     ]
    }
   ],
   "source": [
    "square = lambda x : x*x\n",
    "print(square(2))\n",
    "\n",
    "sum = lambda x,y: x+y\n",
    "print(sum(2,3))"
   ]
  },
  {
   "cell_type": "markdown",
   "id": "8c1ef67f",
   "metadata": {},
   "source": [
    "# Recursion : \n",
    "Function calling itself . \n",
    "- Must have a base case to avoid infinite recursion"
   ]
  },
  {
   "cell_type": "code",
   "execution_count": 18,
   "id": "8e987fd3",
   "metadata": {},
   "outputs": [],
   "source": [
    "# Fibonacci series : \n",
    "\n",
    "def fibonacci(n):\n",
    "    if n==0 or n==1:\n",
    "        return n\n",
    "    return fibonacci(n-1)+fibonacci(n-2)\n"
   ]
  },
  {
   "cell_type": "code",
   "execution_count": 20,
   "id": "b0b52ed4",
   "metadata": {},
   "outputs": [
    {
     "name": "stdout",
     "output_type": "stream",
     "text": [
      "0\n",
      "1\n",
      "1\n",
      "2\n",
      "3\n",
      "5\n",
      "8\n",
      "13\n"
     ]
    }
   ],
   "source": [
    "print(fibonacci(0))\n",
    "print(fibonacci(1))\n",
    "print(fibonacci(2))\n",
    "print(fibonacci(3))\n",
    "print(fibonacci(4))\n",
    "print(fibonacci(5))\n",
    "print(fibonacci(6))\n",
    "print(fibonacci(7))"
   ]
  }
 ],
 "metadata": {
  "kernelspec": {
   "display_name": "learning (3.12.5)",
   "language": "python",
   "name": "python3"
  },
  "language_info": {
   "codemirror_mode": {
    "name": "ipython",
    "version": 3
   },
   "file_extension": ".py",
   "mimetype": "text/x-python",
   "name": "python",
   "nbconvert_exporter": "python",
   "pygments_lexer": "ipython3",
   "version": "3.12.5"
  }
 },
 "nbformat": 4,
 "nbformat_minor": 5
}
