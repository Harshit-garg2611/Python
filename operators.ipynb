{
 "cells": [
  {
   "cell_type": "markdown",
   "id": "4c6f62db",
   "metadata": {},
   "source": [
    "# Operators in python"
   ]
  },
  {
   "cell_type": "markdown",
   "id": "e1316ba0",
   "metadata": {},
   "source": [
    "### 1. Arithmetic Operators: "
   ]
  },
  {
   "cell_type": "code",
   "execution_count": 1,
   "id": "fff6db3a",
   "metadata": {},
   "outputs": [
    {
     "name": "stdout",
     "output_type": "stream",
     "text": [
      "5\n",
      "1\n",
      "6\n",
      "1.5\n",
      "1\n",
      "9\n",
      "1\n"
     ]
    }
   ],
   "source": [
    "print(3+2) # addition\n",
    "print(3-2) # subtraction\n",
    "print(3*2) # Multiplication\n",
    "print(3/2) # Division (float value)\n",
    "print(3//2) # Floor Division\n",
    "print(3**2) # Exponential\n",
    "print(3%2) # Modulo"
   ]
  },
  {
   "cell_type": "markdown",
   "id": "a5a40381",
   "metadata": {},
   "source": [
    "### 2. Comparison Operators\n",
    "- returns boolean True or False\n",
    "- ==  (Equal),  !=  (Not Equal),  >  (Greater Than),  <  (Less Than),  >=\n",
    "(Greater Than or Equal),  <=  (Less Than or Equal)\n",
    "\n",
    "### 3. Logical Operators\n",
    "- and,or,not\n",
    "\n",
    "### 4. Assignment Operators\n",
    "- = ,  += ,  -= ,  *= ,  /= ,  %= ,  **= ,  //=\n",
    "\n",
    "### 5. Membership Operators\n",
    "- in ,  not in"
   ]
  },
  {
   "cell_type": "code",
   "execution_count": 2,
   "id": "30981447",
   "metadata": {},
   "outputs": [
    {
     "name": "stdout",
     "output_type": "stream",
     "text": [
      "True\n"
     ]
    }
   ],
   "source": [
    "fruits = [\"apple\", \"banana\", \"cherry\"]\n",
    "print(\"banana\" in fruits) # Output: True"
   ]
  },
  {
   "cell_type": "markdown",
   "id": "abfc5305",
   "metadata": {},
   "source": [
    "### 6. Identity Operators\n",
    "- is ,  is not "
   ]
  },
  {
   "cell_type": "code",
   "execution_count": 3,
   "id": "6d28ca8d",
   "metadata": {},
   "outputs": [
    {
     "name": "stdout",
     "output_type": "stream",
     "text": [
      "True\n"
     ]
    }
   ],
   "source": [
    "x = 10\n",
    "y = 10\n",
    "print(x is y) # Output: True"
   ]
  }
 ],
 "metadata": {
  "kernelspec": {
   "display_name": "learning (3.12.5)",
   "language": "python",
   "name": "python3"
  },
  "language_info": {
   "codemirror_mode": {
    "name": "ipython",
    "version": 3
   },
   "file_extension": ".py",
   "mimetype": "text/x-python",
   "name": "python",
   "nbconvert_exporter": "python",
   "pygments_lexer": "ipython3",
   "version": "3.12.5"
  }
 },
 "nbformat": 4,
 "nbformat_minor": 5
}
