{
 "cells": [
  {
   "cell_type": "markdown",
   "id": "4c6f62db",
   "metadata": {},
   "source": [
    "# Operators in python"
   ]
  }
 ],
 "metadata": {
  "language_info": {
   "name": "python"
  }
 },
 "nbformat": 4,
 "nbformat_minor": 5
}
